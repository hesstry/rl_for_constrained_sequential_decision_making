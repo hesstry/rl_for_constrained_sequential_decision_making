{
  "nbformat": 4,
  "nbformat_minor": 0,
  "metadata": {
    "colab": {
      "provenance": [],
      "collapsed_sections": [
        "02BLc-dRmod_"
      ],
      "toc_visible": true
    },
    "kernelspec": {
      "name": "python3",
      "display_name": "Python 3"
    },
    "language_info": {
      "name": "python"
    },
    "widgets": {
      "application/vnd.jupyter.widget-state+json": {
        "141f077641234b08a5617c2844a604ed": {
          "model_module": "@jupyter-widgets/output",
          "model_name": "OutputModel",
          "model_module_version": "1.0.0",
          "state": {
            "_dom_classes": [],
            "_model_module": "@jupyter-widgets/output",
            "_model_module_version": "1.0.0",
            "_model_name": "OutputModel",
            "_view_count": null,
            "_view_module": "@jupyter-widgets/output",
            "_view_module_version": "1.0.0",
            "_view_name": "OutputView",
            "layout": "IPY_MODEL_494b4408a3e24ea7944647b5665d95d8",
            "msg_id": "",
            "outputs": [
              {
                "output_type": "display_data",
                "data": {
                  "text/plain": "\u001b[35m   1%\u001b[0m \u001b[38;5;237m━━━━━━━━━━━━━━━━━━━━━━━━━━━━━━━━━━━━━━━━━━━━━━━━━━━━━━━━━━━━\u001b[0m \u001b[32m6,952/1,000,000 \u001b[0m [ \u001b[33m1:13:27\u001b[0m < \u001b[36m33:53:59\u001b[0m , \u001b[31m8 it/s\u001b[0m ]\n",
                  "text/html": "<pre style=\"white-space:pre;overflow-x:auto;line-height:normal;font-family:Menlo,'DejaVu Sans Mono',consolas,'Courier New',monospace\"><span style=\"color: #800080; text-decoration-color: #800080\">   1%</span> <span style=\"color: #3a3a3a; text-decoration-color: #3a3a3a\">━━━━━━━━━━━━━━━━━━━━━━━━━━━━━━━━━━━━━━━━━━━━━━━━━━━━━━━━━━━━</span> <span style=\"color: #008000; text-decoration-color: #008000\">6,952/1,000,000 </span> [ <span style=\"color: #808000; text-decoration-color: #808000\">1:13:27</span> &lt; <span style=\"color: #008080; text-decoration-color: #008080\">33:53:59</span> , <span style=\"color: #800000; text-decoration-color: #800000\">8 it/s</span> ]\n</pre>\n"
                },
                "metadata": {}
              }
            ]
          }
        },
        "494b4408a3e24ea7944647b5665d95d8": {
          "model_module": "@jupyter-widgets/base",
          "model_name": "LayoutModel",
          "model_module_version": "1.2.0",
          "state": {
            "_model_module": "@jupyter-widgets/base",
            "_model_module_version": "1.2.0",
            "_model_name": "LayoutModel",
            "_view_count": null,
            "_view_module": "@jupyter-widgets/base",
            "_view_module_version": "1.2.0",
            "_view_name": "LayoutView",
            "align_content": null,
            "align_items": null,
            "align_self": null,
            "border": null,
            "bottom": null,
            "display": null,
            "flex": null,
            "flex_flow": null,
            "grid_area": null,
            "grid_auto_columns": null,
            "grid_auto_flow": null,
            "grid_auto_rows": null,
            "grid_column": null,
            "grid_gap": null,
            "grid_row": null,
            "grid_template_areas": null,
            "grid_template_columns": null,
            "grid_template_rows": null,
            "height": null,
            "justify_content": null,
            "justify_items": null,
            "left": null,
            "margin": null,
            "max_height": null,
            "max_width": null,
            "min_height": null,
            "min_width": null,
            "object_fit": null,
            "object_position": null,
            "order": null,
            "overflow": null,
            "overflow_x": null,
            "overflow_y": null,
            "padding": null,
            "right": null,
            "top": null,
            "visibility": null,
            "width": null
          }
        }
      }
    }
  },
  "cells": [
    {
      "cell_type": "code",
      "source": [
        "host_domain = \"https://berghain.challenges.listenlabs.ai/\""
      ],
      "metadata": {
        "id": "mav8BFtUCm8O"
      },
      "execution_count": null,
      "outputs": []
    },
    {
      "cell_type": "code",
      "execution_count": null,
      "metadata": {
        "id": "wlHlurM4_b4_"
      },
      "outputs": [],
      "source": [
        "def start_new_game(scenario: int, player_id: str = \"5f840748-3dda-4641-bf7c-0bc4c9f5b219\"):\n",
        "  game_url = f\"https://berghain.challenges.listenlabs.ai/new-game?scenario={scenario}&playerId={player_id}\"\n",
        "  resp = requests.get(game_url).json()\n",
        "  # game_info = {\n",
        "  #     \"gameId\": resp[\"gameId\"]\n",
        "  # }\n",
        "\n",
        "  return resp[\"gameId\"]"
      ]
    },
    {
      "cell_type": "code",
      "source": [
        "%%capture\n",
        "!pip install stable-baselines3[extra]"
      ],
      "metadata": {
        "id": "4qB1xwUZDqfr"
      },
      "execution_count": null,
      "outputs": []
    },
    {
      "cell_type": "code",
      "source": [
        "# gym stuff\n",
        "import gymnasium\n",
        "from gymnasium import Env\n",
        "from gymnasium.spaces import Discrete, Box, Dict, Tuple, MultiBinary, MultiDiscrete\n",
        "\n",
        "# helpers\n",
        "import numpy as np\n",
        "import random\n",
        "from IPython.display import clear_output\n",
        "import os\n",
        "\n",
        "# stable baselines stuff\n",
        "from stable_baselines3 import PPO, DQN\n",
        "from stable_baselines3.common.vec_env import VecFrameStack\n",
        "from stable_baselines3.common.evaluation import evaluate_policy\n",
        "from stable_baselines3.common.env_checker import check_env\n",
        "from stable_baselines3.common.callbacks import BaseCallback, EvalCallback\n",
        "from stable_baselines3.common.env_util import make_vec_env\n",
        "\n",
        "# import pandas\n",
        "import pandas as pd\n",
        "\n",
        "# typing\n",
        "from typing import Optional, Union, Any\n",
        "\n",
        "# visualizations\n",
        "import matplotlib.pyplot as plt\n",
        "\n",
        "# torch stuff for optuna\n",
        "import torch\n",
        "import torch.nn as nn\n",
        "\n",
        "import copy\n",
        "\n",
        "import time\n",
        "\n",
        "import requests"
      ],
      "metadata": {
        "id": "TY_QSJfYDsnC"
      },
      "execution_count": null,
      "outputs": []
    },
    {
      "cell_type": "markdown",
      "source": [
        "# Model Definition"
      ],
      "metadata": {
        "id": "h9z2B_Pg03GR"
      }
    },
    {
      "cell_type": "code",
      "source": [
        "\n",
        "class BouncerEnv(Env):\n",
        "  def __init__(self,\n",
        "               df: pd.DataFrame | str,\n",
        "               game_kwargs: Dict,\n",
        "               reward_weights_kwargs: Dict):\n",
        "    # df, sample and sample index\n",
        "    self.df = df\n",
        "    self.cur_sample_idx = 0\n",
        "    # all relevant game vars\n",
        "    self.game_kwargs = game_kwargs\n",
        "    self.status = \"null\"\n",
        "    self.init_game_vars(game_kwargs)\n",
        "    # Actions we can take, accept or reject\n",
        "    self.action_space = Discrete(2, start=0)\n",
        "    # Subgroup categories of sample, cats_accepted, accepted and rejected\n",
        "    self.init_observation_space()\n",
        "    # Set starting state, from first sample\n",
        "    self.init_state()\n",
        "    # reward weights\n",
        "    self.reward_weights_kwargs = reward_weights_kwargs\n",
        "\n",
        "\n",
        "  def init_game_vars(self, game_kwargs):\n",
        "    self.num_cats = len(game_kwargs[\"rel_frequencies\"])\n",
        "    self.cats_accepted = [0, 0, 0, 0]\n",
        "    self.total_accepted = 0\n",
        "    self.total_rejected = 0\n",
        "    self.rel_freqs = game_kwargs[\"rel_frequencies\"]     # list[float num_cats]\n",
        "    self.cat_mins = game_kwargs[\"cat_mins\"]             # list[int num_cats]\n",
        "    self.max_accepted = game_kwargs[\"max_accepted\"]     # int\n",
        "    self.max_rejected = game_kwargs[\"max_rejected\"]     # int\n",
        "    if type(self.df) == str and self.status != \"running\": # only reset environment on state: null | completed | failed\n",
        "      # Add a requests session with retries, to reduce tcp overhead (no handshake every request)\n",
        "      self.session = requests.Session()\n",
        "      self.failed = False\n",
        "      adapter = requests.adapters.HTTPAdapter(max_retries=5)\n",
        "      self.session.mount('http://', adapter)\n",
        "      self.session.mount('https://', adapter)\n",
        "      self.hostDomain = \"https://berghain.challenges.listenlabs.ai/\"\n",
        "      player_id = \"5f840748-3dda-4641-bf7c-0bc4c9f5b219\"\n",
        "      game_url = f\"https://berghain.challenges.listenlabs.ai/new-game?scenario={game_kwargs['scenario']}&playerId={player_id}\"\n",
        "      try:\n",
        "        resp = self.session.get(game_url).json()\n",
        "      except requests.exceptions.RequestException as e:\n",
        "        print(f\"failed to connect on error: {e}\")\n",
        "        self.failed = True\n",
        "        self.session.close()\n",
        "        return\n",
        "      self.gameId = resp[\"gameId\"]\n",
        "      print(resp[\"gameId\"])\n",
        "      self.accept_all = False\n",
        "    elif type(self.df) != str:\n",
        "      self.df = self.df.sample(frac=1).reset_index(drop=True) # Reshuffle and reset index\n",
        "      self.cur_sample_idx = 0\n",
        "\n",
        "  def init_observation_space(self):\n",
        "    self.observation_space = Dict(\n",
        "        {\n",
        "          \"cur_sample\": MultiBinary(self.num_cats),\n",
        "          \"rel_freqs\": Box(0, 1, shape=(self.num_cats,), dtype=np.float32),\n",
        "          \"percentage_cats_filled\": Box(0, 1, shape=(self.num_cats,), dtype=np.float32),\n",
        "          \"percentage_accepted\": Box(0, 1, shape=(1,), dtype=np.float32),\n",
        "          \"percentage_rejected\": Box(0, 1, shape=(1,), dtype=np.float32)\n",
        "        }\n",
        "        )\n",
        "\n",
        "  def init_state(self):\n",
        "    first_sample = self.get_first_sample()\n",
        "    self.state = {\n",
        "        \"cur_sample\": copy.deepcopy(first_sample),\n",
        "        \"rel_freqs\": np.array(self.rel_freqs, dtype=np.float32),\n",
        "        \"percentage_cats_filled\": np.array([0.0]*self.num_cats, dtype=np.float32),\n",
        "        \"percentage_accepted\": np.array([0.0], dtype=np.float32),\n",
        "        \"percentage_rejected\": np.array([0.0], dtype=np.float32)\n",
        "    }\n",
        "\n",
        "  def get_first_sample(self):\n",
        "    if type(self.df) == str:\n",
        "      # if failed to connect\n",
        "      if self.failed:\n",
        "        return np.array([0,0,0,0], dtype=np.int8)\n",
        "      # else try to keep game going\n",
        "      try:\n",
        "        resp = self.session.get(f\"{self.hostDomain}decide-and-next?gameId={self.gameId}&personIndex=0\")\n",
        "      except requests.exceptions.RequestException as e:\n",
        "        print(f\"failed to connect on error {e}\")\n",
        "        self.failed = True\n",
        "        return np.array([0,0,0,0], dtype=np.int8)\n",
        "      resp = resp.json()\n",
        "      self.status = resp[\"status\"]\n",
        "      next_person = resp[\"nextPerson\"]\n",
        "      if next_person:\n",
        "        self.next_index = next_person[\"personIndex\"]\n",
        "        next_attributes = next_person[\"attributes\"]\n",
        "        techno_lover = next_attributes[\"techno_lover\"]\n",
        "        well_connected = next_attributes[\"well_connected\"]\n",
        "        creative = next_attributes[\"creative\"]\n",
        "        berlin_local = next_attributes[\"berlin_local\"]\n",
        "        first_sample = np.array(\n",
        "            [techno_lover,\n",
        "            well_connected,\n",
        "            creative,\n",
        "            berlin_local],\n",
        "            dtype=np.int8\n",
        "        )\n",
        "    else:\n",
        "      first_sample = np.array(self.df.iloc[0], dtype = np.int8)\n",
        "\n",
        "    return first_sample\n",
        "\n",
        "  def req_satisfied(self):\n",
        "    for i in range(self.num_cats):\n",
        "      if self.cats_accepted[i] < self.cat_mins[i]:\n",
        "        return False\n",
        "    return True # Return True if all minimums are met\n",
        "\n",
        "  def next_sample(self, accepted):\n",
        "    \"\"\"\n",
        "    Handles decision logic for the online puzzle\n",
        "    \"\"\"\n",
        "    if type(self.df) == str:\n",
        "      if self.accept_all:\n",
        "        decision = \"true\"\n",
        "      elif accepted:\n",
        "        decision = \"true\"\n",
        "      else:\n",
        "        decision = \"false\"\n",
        "      req = f\"{self.hostDomain}decide-and-next?gameId={self.gameId}&personIndex={self.next_index}&accept={decision}\"\n",
        "      resp = self.session.get(req)\n",
        "      resp = resp.json()\n",
        "\n",
        "      self.status = resp[\"status\"]\n",
        "      next_person = resp[\"nextPerson\"]\n",
        "      if next_person:\n",
        "        self.next_index = next_person[\"personIndex\"]\n",
        "        next_attributes = next_person[\"attributes\"]\n",
        "        techno_lover = next_attributes[\"techno_lover\"]\n",
        "        well_connected = next_attributes[\"well_connected\"]\n",
        "        creative = next_attributes[\"creative\"]\n",
        "        berlin_local = next_attributes[\"berlin_local\"]\n",
        "        next_sample = np.array(\n",
        "            [techno_lover,\n",
        "            well_connected,\n",
        "            creative,\n",
        "            berlin_local],\n",
        "            dtype=np.int8\n",
        "        )\n",
        "      else:\n",
        "        next_sample = None\n",
        "        self.failed = True\n",
        "    else:\n",
        "      self.cur_sample_idx += 1\n",
        "      next_sample = np.array(self.df.iloc[self.cur_sample_idx], dtype = np.int8)\n",
        "\n",
        "    return next_sample\n",
        "\n",
        "  def calc_potential(self, cat_percentages, percentage_accepted):\n",
        "    \"\"\"\n",
        "    Calculates the potential of a given state (defined by category counts).\n",
        "\n",
        "    The potential increases as the categorical minimums are met,\n",
        "    and is capped once a minimum is reached.\n",
        "    Weighted by rarity to prioritize rare attributes.\n",
        "\n",
        "    When framed as 'negative distance to goal', we nudge the model towards\n",
        "    approaching the goal.\n",
        "\n",
        "    PBRS provides dense rewards to nudge the model along the way.\n",
        "\n",
        "    Current notes:\n",
        "\n",
        "    - level-adaptive potential scaling and lower rejection penalties\n",
        "      - This allowed the model to understand that as levels progress, selectiveness is more important\n",
        "      - max level: 15\n",
        "\n",
        "    - power > 1.0 for categorical filling potential, I applied this to the progress*weight attribute\n",
        "      - power = 2.0: seems to weigh too heavily on rareness, causing rejections to grow a ton, to about 10000\n",
        "      - max level: 18, pretty solid... Though rejections are huge\n",
        "\n",
        "    - SPARSE REWARDS AS LEVEL COMPLETION\n",
        "      - Upon objective completion, reward sparse rewards\n",
        "\n",
        "    No change for rejctions, hence rejections are neutral\n",
        "\n",
        "    Positive for goal approaching if accept and has category\n",
        "\n",
        "    No change for accept with no categories\n",
        "      Incentivizes goal approachment\n",
        "\n",
        "    Positive for budget if accept and category count outweighs decreased budget\n",
        "\n",
        "    Negative for budget if accept and category count does not outweigh decreased budget\n",
        "      -   incentivises selectiveness\n",
        "    \"\"\"\n",
        "    potential = 0.0\n",
        "    for i in range(self.num_cats):\n",
        "\n",
        "      # Weight by rarity\n",
        "      # This makes progress on rare categories contribute more to the potential\n",
        "      # implication: distance is larger for rarer categories, budget is tighter for rarer categories\n",
        "      rarity_weight = (1.0 / self.rel_freqs[i])\n",
        "\n",
        "      # budget signals are very clear to model learning\n",
        "      # include budget here, distances increase as budget is depleted and a category remains unfilled (percentage of budget needed grows)\n",
        "      budget_left = (1.0 - percentage_accepted)\n",
        "      # 1000 >= n_budget_left >= 1, this function is not called when all acceptances are made\n",
        "      n_budget_left = budget_left * self.max_accepted\n",
        "      p_left = 1.0 - cat_percentages[i]\n",
        "      n_left = p_left * self.cat_mins[i]\n",
        "\n",
        "      # logic: it costs way more of a budget to accept a rarer category than it does to accept a common category\n",
        "      # min <= 0 as n_left <= 0\n",
        "      # max = 1.0 (when n_left >= n_budget_left)\n",
        "      # dynamic term\n",
        "      # By capping at 1.0, this signals it's always in a winnable state, which may be detrimental to learning\n",
        "      p_budget_needed_to_fill = -1.0 * min(n_left / n_budget_left, self.reward_weights_kwargs['max_budget_needed']) # hyperparameter\n",
        "\n",
        "      p_budget_needed_to_fill *= self.reward_weights_kwargs['budget_scale'] # budget weighting as this is a key signal for deciding next step, coupled with distance, hyperparameter\n",
        "\n",
        "      # As distance becomes smaller, potential grows larger\n",
        "      # Distance weighted by rarity and translated by budget\n",
        "      # Signals importance of certain categories, and current budget left to acquire them\n",
        "      potential += (p_budget_needed_to_fill)*(rarity_weight**self.reward_weights_kwargs['rarity_exponent'])\n",
        "\n",
        "    return potential\n",
        "\n",
        "  # This is your main reward calculation function\n",
        "  def calc_reward(self, action, last_state_dict, current_state_dict, done):\n",
        "    \"\"\"\n",
        "    Calculate the total reward for a step using base reward + potential-based shaping + final episodic rewards.\n",
        "    \"\"\"\n",
        "    # --- Score Calculation Variables ---\n",
        "    last_cat_percentages = last_state_dict['percentage_cats_filled']\n",
        "    current_cat_percentages = current_state_dict['percentage_cats_filled']\n",
        "    last_rejected_percentage = last_state_dict['percentage_rejected'][0]\n",
        "    cur_rejected_percentage = current_state_dict['percentage_rejected'][0]\n",
        "    # for potential based budget calculations\n",
        "    last_accepted_percentage = last_state_dict['percentage_accepted'][0]\n",
        "    current_accepted_percentage = current_state_dict['percentage_accepted'][0]\n",
        "\n",
        "    shaping_term = 0\n",
        "    if not done:\n",
        "      # --- Potential-Based Shaping Term as Distance From Goal (gamma * Phi(s') - Phi(s)) ---\n",
        "      # no potential rewards on done state as potential of any terminal state should be zero (nowhere to move to...)\n",
        "      last_potential = self.calc_potential(last_cat_percentages, last_accepted_percentage)\n",
        "      current_potential = self.calc_potential(current_cat_percentages, current_accepted_percentage)\n",
        "      # > 0 only when distance from goal decreases\n",
        "      shaping_term = (self.reward_weights_kwargs['potential_discount_factor'] * current_potential - last_potential) * self.reward_weights_kwargs['potential_shaping_scalar']\n",
        "\n",
        "    # --- Final/Episodic Reward ---\n",
        "    # Sparsest rewards upon done state\n",
        "    final_reward = 0\n",
        "    if done:\n",
        "      # beat game\n",
        "      if self.req_satisfied(): # Assuming this checks all final conditions\n",
        "        final_reward += self.reward_weights_kwargs['final_bonus']\n",
        "      # lost game\n",
        "      else:\n",
        "        final_reward -= self.reward_weights_kwargs['final_penalty']\n",
        "\n",
        "    # final episodic rewards for online game, can be infinite technically... leave as is for now, currently infinite\n",
        "    elif type(self.df) == str and self.accept_all:\n",
        "      final_reward += self.reward_weights_kwargs['final_bonus']\n",
        "\n",
        "    # --- Combine all reward components ---\n",
        "    total_reward = shaping_term + final_reward\n",
        "\n",
        "    if type(total_reward) != float:\n",
        "      return float(total_reward)\n",
        "    return total_reward\n",
        "\n",
        "  def increment_counts(self, accepted):\n",
        "    if accepted:\n",
        "      # increment categorical counts\n",
        "      for i in range(self.num_cats):\n",
        "          if self.state[\"cur_sample\"][i]:\n",
        "            self.cats_accepted[i] +=  1\n",
        "      # increment total accepted\n",
        "      self.total_accepted += 1\n",
        "    else:\n",
        "      self.total_rejected += 1\n",
        "\n",
        "  def calculate_state_percentages(self, accepted):\n",
        "    # update state percentages on each decision\n",
        "    # conditional here to save unneeded computations\n",
        "    if accepted:\n",
        "      self.state[\"percentage_accepted\"][0] = self.total_accepted / self.max_accepted\n",
        "      for i in range(self.num_cats):\n",
        "        # cap it at 1.0, helps fo reward signaling as well\n",
        "        self.state[\"percentage_cats_filled\"][i] = min(self.cats_accepted[i] / self.cat_mins[i], 1.0)\n",
        "    else:\n",
        "      self.state[\"percentage_rejected\"][0] = self.total_rejected / self.max_rejected\n",
        "\n",
        "  def step(self, action: bool):\n",
        "    # add sleep aspect to decrease chances of sending too many requests\n",
        "    time.sleep(0.01)\n",
        "    if type(self.df) == str and self.accept_all:\n",
        "      action = True\n",
        "\n",
        "    # for keeping track of goal progression\n",
        "    last_state_dict = copy.deepcopy(self.state)\n",
        "    self.increment_counts(action)\n",
        "    self.calculate_state_percentages(action)\n",
        "\n",
        "    # check termination conditions to determine final reward (goal met or not)\n",
        "    done = False\n",
        "    truncated = False\n",
        "\n",
        "    # Stopping condition, relies upon next_sample != None for the online puzzle\n",
        "    # sample next person in line\n",
        "    # requirement satisfied could be used here\n",
        "    next_person = self.next_sample(action)\n",
        "    if type(self.df) == str:\n",
        "      if next_person is None:\n",
        "        done = True\n",
        "      # early break to return needed processing information and keep accepting\n",
        "      elif self.accept_all:\n",
        "        reward = 0.0\n",
        "        self.state[\"cur_sample\"] = next_person\n",
        "        done = False\n",
        "        return self.state, reward, done, truncated, {}\n",
        "      # if not done and not yet on accept all stage\n",
        "      elif self.req_satisfied():\n",
        "        self.accept_all = True\n",
        "        done = False\n",
        "    else:\n",
        "      if self.total_accepted == self.max_accepted or self.total_rejected == self.max_rejected:\n",
        "        done = True\n",
        "      elif self.req_satisfied():\n",
        "        done = True\n",
        "      else:\n",
        "        done = False\n",
        "\n",
        "    current_state_dict = copy.deepcopy(self.state)\n",
        "\n",
        "    # calculate reward before sampling next person\n",
        "    reward = self.calc_reward(action, last_state_dict, current_state_dict, done)\n",
        "\n",
        "    if next_person is not None:\n",
        "      self.state[\"cur_sample\"] = next_person\n",
        "\n",
        "    # truncated, not relevant here due to no timelimit and not being able to go out of bounds\n",
        "    truncated = False\n",
        "\n",
        "    # Placeholder for info\n",
        "    info = {}\n",
        "\n",
        "    return self.state, reward, done, truncated, info\n",
        "\n",
        "  def render(self):\n",
        "    # visualizations\n",
        "    pass\n",
        "\n",
        "  def reset(self, *, seed: Optional[int] = None, options: Optional[dict] = None) -> tuple[dict[str, np.ndarray], dict]:\n",
        "    # reset environment\n",
        "    self.init_game_vars(self.game_kwargs)\n",
        "    self.init_state()\n",
        "    # Placeholder for info\n",
        "    info = {}\n",
        "    return self.state, info\n",
        "\n",
        "relative_frequencies = [0.6265, 0.47, 0.06227, 0.398]\n",
        "cat_mins = [650, 450, 300, 750]\n",
        "\n",
        "game_kwargs = {\n",
        "    \"rel_frequencies\": relative_frequencies,\n",
        "    \"cat_mins\": cat_mins,\n",
        "    \"max_accepted\": 1000,\n",
        "    \"max_rejected\": 20000,\n",
        "    \"max_hardness\": 1,\n",
        "    \"max_hardness_completions\": 1,\n",
        "    \"scenario\": 2\n",
        "}\n",
        "\n",
        "reward_weights_kwargs = {\n",
        "    'rarity_exponent': 0.3, # how important is the rarity of a sample?\n",
        "    'budget_scale': 20.0, # how important is budget?\n",
        "    'max_budget_needed': 2.0, # how bad is a losing state?\n",
        "    'final_bonus': 1000.0, # used\n",
        "    'final_penalty': -500.0, # used\n",
        "    'potential_shaping_scalar': 1.0, # Weight for the potential shaping term\n",
        "    'potential_discount_factor': 0.99999 # Discount factor for the potential shaping term\n",
        "}\n",
        "\n",
        "ENV_KWARGS = {\n",
        "    \"df\": \"\",\n",
        "    \"game_kwargs\": game_kwargs,\n",
        "    \"reward_weights_kwargs\": reward_weights_kwargs\n",
        "}"
      ],
      "metadata": {
        "id": "81MHTFWSD1n7"
      },
      "execution_count": null,
      "outputs": []
    },
    {
      "cell_type": "markdown",
      "source": [
        "# Eval Callback"
      ],
      "metadata": {
        "id": "02BLc-dRmod_"
      }
    },
    {
      "cell_type": "code",
      "source": [
        "class CustomEvalCallback(BaseCallback):\n",
        "  \"\"\"\n",
        "  A custom callback that derives from ``BaseCallback``.\n",
        "\n",
        "  :param verbose: Verbosity level: 0 for no output, 1 for info messages, 2 for debug messages\n",
        "  \"\"\"\n",
        "  def __init__(self, train_env, verbose: int = 0, eval_freq: int = 500):\n",
        "      super().__init__(verbose)\n",
        "      # Those variables will be accessible in the callback\n",
        "      # (they are defined in the base class)\n",
        "      # The RL model\n",
        "      # self.model = None  # type: BaseAlgorithm\n",
        "      # An alias for self.model.get_env(), the environment used for training\n",
        "      # self.training_env # type: VecEnv\n",
        "      # Number of time the callback was called\n",
        "      # self.n_calls = 0  # type: int\n",
        "      # num_timesteps = n_envs * n times env.step() was called\n",
        "      # self.num_timesteps = 0  # type: int\n",
        "      # local and global variables\n",
        "      # self.locals = {}  # type: Dict[str, Any]\n",
        "      # self.globals = {}  # type: Dict[str, Any]\n",
        "      # The logger object, used to report things in the terminal\n",
        "      # self.logger # type: stable_baselines3.common.logger.Logger\n",
        "      # Sometimes, for event callback, it is useful\n",
        "      # to have access to the parent object\n",
        "      # self.parent = None  # type: Optional[BaseCallback]\n",
        "      self.eval_rounds = 1\n",
        "      self.eval_freq = eval_freq\n",
        "      self.train_env = train_env\n",
        "      self.test_env = BouncerEnv(\n",
        "          df = \"\",\n",
        "          game_kwargs=game_kwargs,\n",
        "          reward_weights_kwargs=reward_weights_kwargs\n",
        "          )\n",
        "\n",
        "      self.reward_results_trial = []\n",
        "      self.tot_accepted_results_trial = []\n",
        "      self.tot_rejected_results_trial = []\n",
        "      self.tot_cats_accepted_results_trial: list[list[int]] = []\n",
        "\n",
        "      self.reward_results = []\n",
        "      self.tot_accepted_results = []\n",
        "      self.tot_rejected_results = []\n",
        "      self.tot_cats_accepted_results = []\n",
        "      self.max_level = []\n",
        "\n",
        "  def eval_model(self):\n",
        "    \"\"\"\n",
        "    Evaluation function\n",
        "    \"\"\"\n",
        "    attempts = 0\n",
        "    max_attempts = 1\n",
        "    for episode in range(self.eval_rounds):\n",
        "      obs, _ = self.test_env.reset()\n",
        "      # ensure hardness not reset until next evaluation\n",
        "      self.test_env.reset_hardness = False\n",
        "      done = False\n",
        "      score = 0\n",
        "      cur_reward = []\n",
        "      cur_tot_accepted_results = []\n",
        "      cur_tot_rejected_results = []\n",
        "      cur_tot_cats_accepted_results = []\n",
        "      while not done:\n",
        "        action, _state = self.model.predict(obs, deterministic=True)\n",
        "        obs, reward, done, _, info = self.test_env.step(action)\n",
        "        # vec_env.render()\n",
        "        score+=reward\n",
        "        # vec env auto reset, so ensure printing on final state before reset\n",
        "        if done:\n",
        "          print('Episode:{} \\nScore:{}'.format(episode, score))\n",
        "          # Access and print last observation before reset\n",
        "          print(f'Terminal Observation:')\n",
        "          print(f'    Fulfilled Categories: {obs[\"percentage_cats_filled\"]}')\n",
        "          print(f'    Accepted: {obs[\"percentage_accepted\"]}')\n",
        "          print(f'    Rejected: {obs[\"percentage_rejected\"]}')\n",
        "          succeeded = self.test_env.req_satisfied()\n",
        "          if not succeeded:\n",
        "            attempts += 1\n",
        "          else:\n",
        "            attempts = 0\n",
        "          print(f'Succeeded: {succeeded}')\n",
        "\n",
        "      if attempts >= max_attempts:\n",
        "        break\n",
        "\n",
        "  def visualize(self, trial=False):\n",
        "    reward_results = self.reward_results\n",
        "    tot_accepted_results = self.tot_accepted_results\n",
        "    tot_rejected_results = self.tot_rejected_results\n",
        "    tot_cats_accepted_results = np.array(self.tot_cats_accepted_results)\n",
        "    reward_title = \"Rewards Per Update\"\n",
        "    tot_accepted_title = \"Total Accepted Per Update\"\n",
        "    tot_rejected_title = \"Total Rejected Per Update\"\n",
        "    tot_cats_accepted_title = \"Total Categories Accepted Per Update\"\n",
        "    fig, axs = plt.subplots(nrows = 2, ncols = 2, sharex=False, sharey=False, figsize=(5,5))\n",
        "    axs[0,0].plot(reward_results)\n",
        "    axs[0,0].set_title(reward_title)\n",
        "    axs[0,1].plot(tot_accepted_results)\n",
        "    axs[0,1].set_title(tot_accepted_title)\n",
        "    axs[1,0].plot(tot_rejected_results)\n",
        "    axs[1,0].set_title(tot_rejected_title)\n",
        "    tot_cats_accepted_results = np.array(tot_cats_accepted_results)\n",
        "    axs[1,1].plot(tot_cats_accepted_results[:, 0], 'tab:orange')\n",
        "    axs[1,1].plot(tot_cats_accepted_results[:, 1], 'tab:green')\n",
        "    axs[1,1].plot(tot_cats_accepted_results[:, 2], 'tab:red')\n",
        "    axs[1,1].plot(tot_cats_accepted_results[:, 3], 'tab:blue')\n",
        "    axs[1,1].legend(['tl', 'wc', 'c', 'bl'])\n",
        "    axs[1,1].set_title(tot_cats_accepted_title)\n",
        "    plt.show()\n",
        "    print(f'MAX LEVELS: {self.max_level}')\n",
        "\n",
        "  def _on_training_start(self) -> None:\n",
        "    \"\"\"\n",
        "    This method is called before the first rollout starts.\n",
        "    \"\"\"\n",
        "    super()._on_training_start()\n",
        "    self.eval_model()\n",
        "\n",
        "  def _on_step(self) -> bool:\n",
        "    super()._on_step()\n",
        "    if self.n_calls % self.eval_freq == 0:\n",
        "      self.eval_model()\n",
        "    return True\n",
        "\n",
        "  def _on_training_end(self) -> None:\n",
        "    \"\"\"\n",
        "    Training Visualization\n",
        "    \"\"\"\n",
        "    # self.visualize()\n",
        "    pass"
      ],
      "metadata": {
        "id": "XzrSe7UNmqml"
      },
      "execution_count": null,
      "outputs": []
    },
    {
      "cell_type": "markdown",
      "source": [
        "# Run the model"
      ],
      "metadata": {
        "id": "TGhFMboZplmm"
      }
    },
    {
      "cell_type": "code",
      "source": [
        "model = DQN(\n",
        "    \"MultiInputPolicy\",\n",
        "    env=vec_env,\n",
        "    verbose=0,\n",
        "    seed = 1234963,\n",
        "    learning_rate=1e-5\n",
        "    )\n",
        "\n",
        "model.learn(total_timesteps=1_000_000, progress_bar = True,)\n",
        "\n",
        "save_path = \"/content/drive/MyDrive/rl_stuff\"\n",
        "model_file_path = os.path.join(save_path, \"ll_ai_puzzle_DQN\")\n",
        "\n",
        "model.save(model_file_path)\n",
        "print(f\"Model saved to {model_file_path}.zip\")"
      ],
      "metadata": {
        "colab": {
          "base_uri": "https://localhost:8080/",
          "height": 492,
          "referenced_widgets": [
            "141f077641234b08a5617c2844a604ed",
            "494b4408a3e24ea7944647b5665d95d8"
          ]
        },
        "id": "khcKbO87dRKo",
        "outputId": "abd6df61-a271-4d1b-af0b-1b6af9886eb8"
      },
      "execution_count": null,
      "outputs": [
        {
          "output_type": "display_data",
          "data": {
            "text/plain": [
              "/usr/local/lib/python3.12/dist-packages/jupyter_client/session.py:203: DeprecationWarning: \n",
              "datetime.datetime.utcnow() is deprecated and scheduled for removal in a future version. Use timezone-aware objects \n",
              "to represent datetimes in UTC: datetime.datetime.now(datetime.UTC).\n",
              "  return datetime.utcnow().replace(tzinfo=utc)\n"
            ],
            "text/html": [
              "<pre style=\"white-space:pre;overflow-x:auto;line-height:normal;font-family:Menlo,'DejaVu Sans Mono',consolas,'Courier New',monospace\">/usr/local/lib/python3.12/dist-packages/jupyter_client/session.py:203: DeprecationWarning: \n",
              "datetime.datetime.utcnow() is deprecated and scheduled for removal in a future version. Use timezone-aware objects \n",
              "to represent datetimes in UTC: datetime.datetime.now(datetime.UTC).\n",
              "  return datetime.utcnow().replace(tzinfo=utc)\n",
              "</pre>\n"
            ]
          },
          "metadata": {}
        },
        {
          "output_type": "display_data",
          "data": {
            "text/plain": [
              "Output()"
            ],
            "application/vnd.jupyter.widget-view+json": {
              "version_major": 2,
              "version_minor": 0,
              "model_id": "141f077641234b08a5617c2844a604ed"
            }
          },
          "metadata": {}
        },
        {
          "output_type": "display_data",
          "data": {
            "text/plain": [
              "/usr/local/lib/python3.12/dist-packages/ipywidgets/widgets/widget_output.py:111: DeprecationWarning: \n",
              "Kernel._parent_header is deprecated in ipykernel 6. Use .get_parent()\n",
              "  if ip and hasattr(ip, 'kernel') and hasattr(ip.kernel, '_parent_header'):\n"
            ],
            "text/html": [
              "<pre style=\"white-space:pre;overflow-x:auto;line-height:normal;font-family:Menlo,'DejaVu Sans Mono',consolas,'Courier New',monospace\">/usr/local/lib/python3.12/dist-packages/ipywidgets/widgets/widget_output.py:111: DeprecationWarning: \n",
              "Kernel._parent_header is deprecated in ipykernel 6. Use .get_parent()\n",
              "  if ip and hasattr(ip, 'kernel') and hasattr(ip.kernel, '_parent_header'):\n",
              "</pre>\n"
            ]
          },
          "metadata": {}
        },
        {
          "output_type": "error",
          "ename": "KeyboardInterrupt",
          "evalue": "",
          "traceback": [
            "\u001b[0;31m---------------------------------------------------------------------------\u001b[0m",
            "\u001b[0;31mKeyboardInterrupt\u001b[0m                         Traceback (most recent call last)",
            "\u001b[0;32m/tmp/ipython-input-2964270599.py\u001b[0m in \u001b[0;36m<cell line: 0>\u001b[0;34m()\u001b[0m\n\u001b[1;32m      7\u001b[0m     )\n\u001b[1;32m      8\u001b[0m \u001b[0;34m\u001b[0m\u001b[0m\n\u001b[0;32m----> 9\u001b[0;31m \u001b[0mmodel\u001b[0m\u001b[0;34m.\u001b[0m\u001b[0mlearn\u001b[0m\u001b[0;34m(\u001b[0m\u001b[0mtotal_timesteps\u001b[0m\u001b[0;34m=\u001b[0m\u001b[0;36m1_000_000\u001b[0m\u001b[0;34m,\u001b[0m \u001b[0mprogress_bar\u001b[0m \u001b[0;34m=\u001b[0m \u001b[0;32mTrue\u001b[0m\u001b[0;34m,\u001b[0m\u001b[0;34m)\u001b[0m\u001b[0;34m\u001b[0m\u001b[0;34m\u001b[0m\u001b[0m\n\u001b[0m\u001b[1;32m     10\u001b[0m \u001b[0;34m\u001b[0m\u001b[0m\n\u001b[1;32m     11\u001b[0m \u001b[0msave_path\u001b[0m \u001b[0;34m=\u001b[0m \u001b[0;34m\"/content/drive/MyDrive/rl_stuff\"\u001b[0m\u001b[0;34m\u001b[0m\u001b[0;34m\u001b[0m\u001b[0m\n",
            "\u001b[0;32m/usr/local/lib/python3.12/dist-packages/stable_baselines3/dqn/dqn.py\u001b[0m in \u001b[0;36mlearn\u001b[0;34m(self, total_timesteps, callback, log_interval, tb_log_name, reset_num_timesteps, progress_bar)\u001b[0m\n\u001b[1;32m    270\u001b[0m         \u001b[0mprogress_bar\u001b[0m\u001b[0;34m:\u001b[0m \u001b[0mbool\u001b[0m \u001b[0;34m=\u001b[0m \u001b[0;32mFalse\u001b[0m\u001b[0;34m,\u001b[0m\u001b[0;34m\u001b[0m\u001b[0;34m\u001b[0m\u001b[0m\n\u001b[1;32m    271\u001b[0m     ) -> SelfDQN:\n\u001b[0;32m--> 272\u001b[0;31m         return super().learn(\n\u001b[0m\u001b[1;32m    273\u001b[0m             \u001b[0mtotal_timesteps\u001b[0m\u001b[0;34m=\u001b[0m\u001b[0mtotal_timesteps\u001b[0m\u001b[0;34m,\u001b[0m\u001b[0;34m\u001b[0m\u001b[0;34m\u001b[0m\u001b[0m\n\u001b[1;32m    274\u001b[0m             \u001b[0mcallback\u001b[0m\u001b[0;34m=\u001b[0m\u001b[0mcallback\u001b[0m\u001b[0;34m,\u001b[0m\u001b[0;34m\u001b[0m\u001b[0;34m\u001b[0m\u001b[0m\n",
            "\u001b[0;32m/usr/local/lib/python3.12/dist-packages/stable_baselines3/common/off_policy_algorithm.py\u001b[0m in \u001b[0;36mlearn\u001b[0;34m(self, total_timesteps, callback, log_interval, tb_log_name, reset_num_timesteps, progress_bar)\u001b[0m\n\u001b[1;32m    333\u001b[0m \u001b[0;34m\u001b[0m\u001b[0m\n\u001b[1;32m    334\u001b[0m         \u001b[0;32mwhile\u001b[0m \u001b[0mself\u001b[0m\u001b[0;34m.\u001b[0m\u001b[0mnum_timesteps\u001b[0m \u001b[0;34m<\u001b[0m \u001b[0mtotal_timesteps\u001b[0m\u001b[0;34m:\u001b[0m\u001b[0;34m\u001b[0m\u001b[0;34m\u001b[0m\u001b[0m\n\u001b[0;32m--> 335\u001b[0;31m             rollout = self.collect_rollouts(\n\u001b[0m\u001b[1;32m    336\u001b[0m                 \u001b[0mself\u001b[0m\u001b[0;34m.\u001b[0m\u001b[0menv\u001b[0m\u001b[0;34m,\u001b[0m\u001b[0;34m\u001b[0m\u001b[0;34m\u001b[0m\u001b[0m\n\u001b[1;32m    337\u001b[0m                 \u001b[0mtrain_freq\u001b[0m\u001b[0;34m=\u001b[0m\u001b[0mself\u001b[0m\u001b[0;34m.\u001b[0m\u001b[0mtrain_freq\u001b[0m\u001b[0;34m,\u001b[0m\u001b[0;34m\u001b[0m\u001b[0;34m\u001b[0m\u001b[0m\n",
            "\u001b[0;32m/usr/local/lib/python3.12/dist-packages/stable_baselines3/common/off_policy_algorithm.py\u001b[0m in \u001b[0;36mcollect_rollouts\u001b[0;34m(self, env, callback, train_freq, replay_buffer, action_noise, learning_starts, log_interval)\u001b[0m\n\u001b[1;32m    565\u001b[0m \u001b[0;34m\u001b[0m\u001b[0m\n\u001b[1;32m    566\u001b[0m             \u001b[0;31m# Rescale and perform action\u001b[0m\u001b[0;34m\u001b[0m\u001b[0;34m\u001b[0m\u001b[0m\n\u001b[0;32m--> 567\u001b[0;31m             \u001b[0mnew_obs\u001b[0m\u001b[0;34m,\u001b[0m \u001b[0mrewards\u001b[0m\u001b[0;34m,\u001b[0m \u001b[0mdones\u001b[0m\u001b[0;34m,\u001b[0m \u001b[0minfos\u001b[0m \u001b[0;34m=\u001b[0m \u001b[0menv\u001b[0m\u001b[0;34m.\u001b[0m\u001b[0mstep\u001b[0m\u001b[0;34m(\u001b[0m\u001b[0mactions\u001b[0m\u001b[0;34m)\u001b[0m\u001b[0;34m\u001b[0m\u001b[0;34m\u001b[0m\u001b[0m\n\u001b[0m\u001b[1;32m    568\u001b[0m \u001b[0;34m\u001b[0m\u001b[0m\n\u001b[1;32m    569\u001b[0m             \u001b[0mself\u001b[0m\u001b[0;34m.\u001b[0m\u001b[0mnum_timesteps\u001b[0m \u001b[0;34m+=\u001b[0m \u001b[0menv\u001b[0m\u001b[0;34m.\u001b[0m\u001b[0mnum_envs\u001b[0m\u001b[0;34m\u001b[0m\u001b[0;34m\u001b[0m\u001b[0m\n",
            "\u001b[0;32m/usr/local/lib/python3.12/dist-packages/stable_baselines3/common/vec_env/base_vec_env.py\u001b[0m in \u001b[0;36mstep\u001b[0;34m(self, actions)\u001b[0m\n\u001b[1;32m    220\u001b[0m         \"\"\"\n\u001b[1;32m    221\u001b[0m         \u001b[0mself\u001b[0m\u001b[0;34m.\u001b[0m\u001b[0mstep_async\u001b[0m\u001b[0;34m(\u001b[0m\u001b[0mactions\u001b[0m\u001b[0;34m)\u001b[0m\u001b[0;34m\u001b[0m\u001b[0;34m\u001b[0m\u001b[0m\n\u001b[0;32m--> 222\u001b[0;31m         \u001b[0;32mreturn\u001b[0m \u001b[0mself\u001b[0m\u001b[0;34m.\u001b[0m\u001b[0mstep_wait\u001b[0m\u001b[0;34m(\u001b[0m\u001b[0;34m)\u001b[0m\u001b[0;34m\u001b[0m\u001b[0;34m\u001b[0m\u001b[0m\n\u001b[0m\u001b[1;32m    223\u001b[0m \u001b[0;34m\u001b[0m\u001b[0m\n\u001b[1;32m    224\u001b[0m     \u001b[0;32mdef\u001b[0m \u001b[0mget_images\u001b[0m\u001b[0;34m(\u001b[0m\u001b[0mself\u001b[0m\u001b[0;34m)\u001b[0m \u001b[0;34m->\u001b[0m \u001b[0mSequence\u001b[0m\u001b[0;34m[\u001b[0m\u001b[0mOptional\u001b[0m\u001b[0;34m[\u001b[0m\u001b[0mnp\u001b[0m\u001b[0;34m.\u001b[0m\u001b[0mndarray\u001b[0m\u001b[0;34m]\u001b[0m\u001b[0;34m]\u001b[0m\u001b[0;34m:\u001b[0m\u001b[0;34m\u001b[0m\u001b[0;34m\u001b[0m\u001b[0m\n",
            "\u001b[0;32m/usr/local/lib/python3.12/dist-packages/stable_baselines3/common/vec_env/dummy_vec_env.py\u001b[0m in \u001b[0;36mstep_wait\u001b[0;34m(self)\u001b[0m\n\u001b[1;32m     57\u001b[0m         \u001b[0;31m# Avoid circular imports\u001b[0m\u001b[0;34m\u001b[0m\u001b[0;34m\u001b[0m\u001b[0m\n\u001b[1;32m     58\u001b[0m         \u001b[0;32mfor\u001b[0m \u001b[0menv_idx\u001b[0m \u001b[0;32min\u001b[0m \u001b[0mrange\u001b[0m\u001b[0;34m(\u001b[0m\u001b[0mself\u001b[0m\u001b[0;34m.\u001b[0m\u001b[0mnum_envs\u001b[0m\u001b[0;34m)\u001b[0m\u001b[0;34m:\u001b[0m\u001b[0;34m\u001b[0m\u001b[0;34m\u001b[0m\u001b[0m\n\u001b[0;32m---> 59\u001b[0;31m             obs, self.buf_rews[env_idx], terminated, truncated, self.buf_infos[env_idx] = self.envs[env_idx].step(  # type: ignore[assignment]\n\u001b[0m\u001b[1;32m     60\u001b[0m                 \u001b[0mself\u001b[0m\u001b[0;34m.\u001b[0m\u001b[0mactions\u001b[0m\u001b[0;34m[\u001b[0m\u001b[0menv_idx\u001b[0m\u001b[0;34m]\u001b[0m\u001b[0;34m\u001b[0m\u001b[0;34m\u001b[0m\u001b[0m\n\u001b[1;32m     61\u001b[0m             )\n",
            "\u001b[0;32m/usr/local/lib/python3.12/dist-packages/stable_baselines3/common/monitor.py\u001b[0m in \u001b[0;36mstep\u001b[0;34m(self, action)\u001b[0m\n\u001b[1;32m     92\u001b[0m         \u001b[0;32mif\u001b[0m \u001b[0mself\u001b[0m\u001b[0;34m.\u001b[0m\u001b[0mneeds_reset\u001b[0m\u001b[0;34m:\u001b[0m\u001b[0;34m\u001b[0m\u001b[0;34m\u001b[0m\u001b[0m\n\u001b[1;32m     93\u001b[0m             \u001b[0;32mraise\u001b[0m \u001b[0mRuntimeError\u001b[0m\u001b[0;34m(\u001b[0m\u001b[0;34m\"Tried to step environment that needs reset\"\u001b[0m\u001b[0;34m)\u001b[0m\u001b[0;34m\u001b[0m\u001b[0;34m\u001b[0m\u001b[0m\n\u001b[0;32m---> 94\u001b[0;31m         \u001b[0mobservation\u001b[0m\u001b[0;34m,\u001b[0m \u001b[0mreward\u001b[0m\u001b[0;34m,\u001b[0m \u001b[0mterminated\u001b[0m\u001b[0;34m,\u001b[0m \u001b[0mtruncated\u001b[0m\u001b[0;34m,\u001b[0m \u001b[0minfo\u001b[0m \u001b[0;34m=\u001b[0m \u001b[0mself\u001b[0m\u001b[0;34m.\u001b[0m\u001b[0menv\u001b[0m\u001b[0;34m.\u001b[0m\u001b[0mstep\u001b[0m\u001b[0;34m(\u001b[0m\u001b[0maction\u001b[0m\u001b[0;34m)\u001b[0m\u001b[0;34m\u001b[0m\u001b[0;34m\u001b[0m\u001b[0m\n\u001b[0m\u001b[1;32m     95\u001b[0m         \u001b[0mself\u001b[0m\u001b[0;34m.\u001b[0m\u001b[0mrewards\u001b[0m\u001b[0;34m.\u001b[0m\u001b[0mappend\u001b[0m\u001b[0;34m(\u001b[0m\u001b[0mfloat\u001b[0m\u001b[0;34m(\u001b[0m\u001b[0mreward\u001b[0m\u001b[0;34m)\u001b[0m\u001b[0;34m)\u001b[0m\u001b[0;34m\u001b[0m\u001b[0;34m\u001b[0m\u001b[0m\n\u001b[1;32m     96\u001b[0m         \u001b[0;32mif\u001b[0m \u001b[0mterminated\u001b[0m \u001b[0;32mor\u001b[0m \u001b[0mtruncated\u001b[0m\u001b[0;34m:\u001b[0m\u001b[0;34m\u001b[0m\u001b[0;34m\u001b[0m\u001b[0m\n",
            "\u001b[0;32m/tmp/ipython-input-882833114.py\u001b[0m in \u001b[0;36mstep\u001b[0;34m(self, action)\u001b[0m\n\u001b[1;32m    296\u001b[0m     \u001b[0;31m# sample next person in line\u001b[0m\u001b[0;34m\u001b[0m\u001b[0;34m\u001b[0m\u001b[0m\n\u001b[1;32m    297\u001b[0m     \u001b[0;31m# requirement satisfied could be used here\u001b[0m\u001b[0;34m\u001b[0m\u001b[0;34m\u001b[0m\u001b[0m\n\u001b[0;32m--> 298\u001b[0;31m     \u001b[0mnext_person\u001b[0m \u001b[0;34m=\u001b[0m \u001b[0mself\u001b[0m\u001b[0;34m.\u001b[0m\u001b[0mnext_sample\u001b[0m\u001b[0;34m(\u001b[0m\u001b[0maction\u001b[0m\u001b[0;34m)\u001b[0m\u001b[0;34m\u001b[0m\u001b[0;34m\u001b[0m\u001b[0m\n\u001b[0m\u001b[1;32m    299\u001b[0m     \u001b[0;32mif\u001b[0m \u001b[0mtype\u001b[0m\u001b[0;34m(\u001b[0m\u001b[0mself\u001b[0m\u001b[0;34m.\u001b[0m\u001b[0mdf\u001b[0m\u001b[0;34m)\u001b[0m \u001b[0;34m==\u001b[0m \u001b[0mstr\u001b[0m\u001b[0;34m:\u001b[0m\u001b[0;34m\u001b[0m\u001b[0;34m\u001b[0m\u001b[0m\n\u001b[1;32m    300\u001b[0m       \u001b[0;32mif\u001b[0m \u001b[0mnext_person\u001b[0m \u001b[0;32mis\u001b[0m \u001b[0;32mNone\u001b[0m\u001b[0;34m:\u001b[0m\u001b[0;34m\u001b[0m\u001b[0;34m\u001b[0m\u001b[0m\n",
            "\u001b[0;32m/tmp/ipython-input-882833114.py\u001b[0m in \u001b[0;36mnext_sample\u001b[0;34m(self, accepted)\u001b[0m\n\u001b[1;32m    115\u001b[0m         \u001b[0mdecision\u001b[0m \u001b[0;34m=\u001b[0m \u001b[0;34m\"false\"\u001b[0m\u001b[0;34m\u001b[0m\u001b[0;34m\u001b[0m\u001b[0m\n\u001b[1;32m    116\u001b[0m       \u001b[0mreq\u001b[0m \u001b[0;34m=\u001b[0m \u001b[0;34mf\"{self.hostDomain}decide-and-next?gameId={self.gameId}&personIndex={self.next_index}&accept={decision}\"\u001b[0m\u001b[0;34m\u001b[0m\u001b[0;34m\u001b[0m\u001b[0m\n\u001b[0;32m--> 117\u001b[0;31m       \u001b[0mresp\u001b[0m \u001b[0;34m=\u001b[0m \u001b[0mrequests\u001b[0m\u001b[0;34m.\u001b[0m\u001b[0mget\u001b[0m\u001b[0;34m(\u001b[0m\u001b[0mreq\u001b[0m\u001b[0;34m)\u001b[0m\u001b[0;34m\u001b[0m\u001b[0;34m\u001b[0m\u001b[0m\n\u001b[0m\u001b[1;32m    118\u001b[0m       \u001b[0mresp\u001b[0m \u001b[0;34m=\u001b[0m \u001b[0mresp\u001b[0m\u001b[0;34m.\u001b[0m\u001b[0mjson\u001b[0m\u001b[0;34m(\u001b[0m\u001b[0;34m)\u001b[0m\u001b[0;34m\u001b[0m\u001b[0;34m\u001b[0m\u001b[0m\n\u001b[1;32m    119\u001b[0m \u001b[0;34m\u001b[0m\u001b[0m\n",
            "\u001b[0;32m/usr/local/lib/python3.12/dist-packages/requests/api.py\u001b[0m in \u001b[0;36mget\u001b[0;34m(url, params, **kwargs)\u001b[0m\n\u001b[1;32m     71\u001b[0m     \"\"\"\n\u001b[1;32m     72\u001b[0m \u001b[0;34m\u001b[0m\u001b[0m\n\u001b[0;32m---> 73\u001b[0;31m     \u001b[0;32mreturn\u001b[0m \u001b[0mrequest\u001b[0m\u001b[0;34m(\u001b[0m\u001b[0;34m\"get\"\u001b[0m\u001b[0;34m,\u001b[0m \u001b[0murl\u001b[0m\u001b[0;34m,\u001b[0m \u001b[0mparams\u001b[0m\u001b[0;34m=\u001b[0m\u001b[0mparams\u001b[0m\u001b[0;34m,\u001b[0m \u001b[0;34m**\u001b[0m\u001b[0mkwargs\u001b[0m\u001b[0;34m)\u001b[0m\u001b[0;34m\u001b[0m\u001b[0;34m\u001b[0m\u001b[0m\n\u001b[0m\u001b[1;32m     74\u001b[0m \u001b[0;34m\u001b[0m\u001b[0m\n\u001b[1;32m     75\u001b[0m \u001b[0;34m\u001b[0m\u001b[0m\n",
            "\u001b[0;32m/usr/local/lib/python3.12/dist-packages/requests/api.py\u001b[0m in \u001b[0;36mrequest\u001b[0;34m(method, url, **kwargs)\u001b[0m\n\u001b[1;32m     57\u001b[0m     \u001b[0;31m# cases, and look like a memory leak in others.\u001b[0m\u001b[0;34m\u001b[0m\u001b[0;34m\u001b[0m\u001b[0m\n\u001b[1;32m     58\u001b[0m     \u001b[0;32mwith\u001b[0m \u001b[0msessions\u001b[0m\u001b[0;34m.\u001b[0m\u001b[0mSession\u001b[0m\u001b[0;34m(\u001b[0m\u001b[0;34m)\u001b[0m \u001b[0;32mas\u001b[0m \u001b[0msession\u001b[0m\u001b[0;34m:\u001b[0m\u001b[0;34m\u001b[0m\u001b[0;34m\u001b[0m\u001b[0m\n\u001b[0;32m---> 59\u001b[0;31m         \u001b[0;32mreturn\u001b[0m \u001b[0msession\u001b[0m\u001b[0;34m.\u001b[0m\u001b[0mrequest\u001b[0m\u001b[0;34m(\u001b[0m\u001b[0mmethod\u001b[0m\u001b[0;34m=\u001b[0m\u001b[0mmethod\u001b[0m\u001b[0;34m,\u001b[0m \u001b[0murl\u001b[0m\u001b[0;34m=\u001b[0m\u001b[0murl\u001b[0m\u001b[0;34m,\u001b[0m \u001b[0;34m**\u001b[0m\u001b[0mkwargs\u001b[0m\u001b[0;34m)\u001b[0m\u001b[0;34m\u001b[0m\u001b[0;34m\u001b[0m\u001b[0m\n\u001b[0m\u001b[1;32m     60\u001b[0m \u001b[0;34m\u001b[0m\u001b[0m\n\u001b[1;32m     61\u001b[0m \u001b[0;34m\u001b[0m\u001b[0m\n",
            "\u001b[0;32m/usr/local/lib/python3.12/dist-packages/requests/sessions.py\u001b[0m in \u001b[0;36mrequest\u001b[0;34m(self, method, url, params, data, headers, cookies, files, auth, timeout, allow_redirects, proxies, hooks, stream, verify, cert, json)\u001b[0m\n\u001b[1;32m    587\u001b[0m         }\n\u001b[1;32m    588\u001b[0m         \u001b[0msend_kwargs\u001b[0m\u001b[0;34m.\u001b[0m\u001b[0mupdate\u001b[0m\u001b[0;34m(\u001b[0m\u001b[0msettings\u001b[0m\u001b[0;34m)\u001b[0m\u001b[0;34m\u001b[0m\u001b[0;34m\u001b[0m\u001b[0m\n\u001b[0;32m--> 589\u001b[0;31m         \u001b[0mresp\u001b[0m \u001b[0;34m=\u001b[0m \u001b[0mself\u001b[0m\u001b[0;34m.\u001b[0m\u001b[0msend\u001b[0m\u001b[0;34m(\u001b[0m\u001b[0mprep\u001b[0m\u001b[0;34m,\u001b[0m \u001b[0;34m**\u001b[0m\u001b[0msend_kwargs\u001b[0m\u001b[0;34m)\u001b[0m\u001b[0;34m\u001b[0m\u001b[0;34m\u001b[0m\u001b[0m\n\u001b[0m\u001b[1;32m    590\u001b[0m \u001b[0;34m\u001b[0m\u001b[0m\n\u001b[1;32m    591\u001b[0m         \u001b[0;32mreturn\u001b[0m \u001b[0mresp\u001b[0m\u001b[0;34m\u001b[0m\u001b[0;34m\u001b[0m\u001b[0m\n",
            "\u001b[0;32m/usr/local/lib/python3.12/dist-packages/requests/sessions.py\u001b[0m in \u001b[0;36msend\u001b[0;34m(self, request, **kwargs)\u001b[0m\n\u001b[1;32m    701\u001b[0m \u001b[0;34m\u001b[0m\u001b[0m\n\u001b[1;32m    702\u001b[0m         \u001b[0;31m# Send the request\u001b[0m\u001b[0;34m\u001b[0m\u001b[0;34m\u001b[0m\u001b[0m\n\u001b[0;32m--> 703\u001b[0;31m         \u001b[0mr\u001b[0m \u001b[0;34m=\u001b[0m \u001b[0madapter\u001b[0m\u001b[0;34m.\u001b[0m\u001b[0msend\u001b[0m\u001b[0;34m(\u001b[0m\u001b[0mrequest\u001b[0m\u001b[0;34m,\u001b[0m \u001b[0;34m**\u001b[0m\u001b[0mkwargs\u001b[0m\u001b[0;34m)\u001b[0m\u001b[0;34m\u001b[0m\u001b[0;34m\u001b[0m\u001b[0m\n\u001b[0m\u001b[1;32m    704\u001b[0m \u001b[0;34m\u001b[0m\u001b[0m\n\u001b[1;32m    705\u001b[0m         \u001b[0;31m# Total elapsed time of the request (approximately)\u001b[0m\u001b[0;34m\u001b[0m\u001b[0;34m\u001b[0m\u001b[0m\n",
            "\u001b[0;32m/usr/local/lib/python3.12/dist-packages/requests/adapters.py\u001b[0m in \u001b[0;36msend\u001b[0;34m(self, request, stream, timeout, verify, cert, proxies)\u001b[0m\n\u001b[1;32m    665\u001b[0m \u001b[0;34m\u001b[0m\u001b[0m\n\u001b[1;32m    666\u001b[0m         \u001b[0;32mtry\u001b[0m\u001b[0;34m:\u001b[0m\u001b[0;34m\u001b[0m\u001b[0;34m\u001b[0m\u001b[0m\n\u001b[0;32m--> 667\u001b[0;31m             resp = conn.urlopen(\n\u001b[0m\u001b[1;32m    668\u001b[0m                 \u001b[0mmethod\u001b[0m\u001b[0;34m=\u001b[0m\u001b[0mrequest\u001b[0m\u001b[0;34m.\u001b[0m\u001b[0mmethod\u001b[0m\u001b[0;34m,\u001b[0m\u001b[0;34m\u001b[0m\u001b[0;34m\u001b[0m\u001b[0m\n\u001b[1;32m    669\u001b[0m                 \u001b[0murl\u001b[0m\u001b[0;34m=\u001b[0m\u001b[0murl\u001b[0m\u001b[0;34m,\u001b[0m\u001b[0;34m\u001b[0m\u001b[0;34m\u001b[0m\u001b[0m\n",
            "\u001b[0;32m/usr/local/lib/python3.12/dist-packages/urllib3/connectionpool.py\u001b[0m in \u001b[0;36murlopen\u001b[0;34m(self, method, url, body, headers, retries, redirect, assert_same_host, timeout, pool_timeout, release_conn, chunked, body_pos, preload_content, decode_content, **response_kw)\u001b[0m\n\u001b[1;32m    785\u001b[0m \u001b[0;34m\u001b[0m\u001b[0m\n\u001b[1;32m    786\u001b[0m             \u001b[0;31m# Make the request on the HTTPConnection object\u001b[0m\u001b[0;34m\u001b[0m\u001b[0;34m\u001b[0m\u001b[0m\n\u001b[0;32m--> 787\u001b[0;31m             response = self._make_request(\n\u001b[0m\u001b[1;32m    788\u001b[0m                 \u001b[0mconn\u001b[0m\u001b[0;34m,\u001b[0m\u001b[0;34m\u001b[0m\u001b[0;34m\u001b[0m\u001b[0m\n\u001b[1;32m    789\u001b[0m                 \u001b[0mmethod\u001b[0m\u001b[0;34m,\u001b[0m\u001b[0;34m\u001b[0m\u001b[0;34m\u001b[0m\u001b[0m\n",
            "\u001b[0;32m/usr/local/lib/python3.12/dist-packages/urllib3/connectionpool.py\u001b[0m in \u001b[0;36m_make_request\u001b[0;34m(self, conn, method, url, body, headers, retries, timeout, chunked, response_conn, preload_content, decode_content, enforce_content_length)\u001b[0m\n\u001b[1;32m    532\u001b[0m         \u001b[0;31m# Receive the response from the server\u001b[0m\u001b[0;34m\u001b[0m\u001b[0;34m\u001b[0m\u001b[0m\n\u001b[1;32m    533\u001b[0m         \u001b[0;32mtry\u001b[0m\u001b[0;34m:\u001b[0m\u001b[0;34m\u001b[0m\u001b[0;34m\u001b[0m\u001b[0m\n\u001b[0;32m--> 534\u001b[0;31m             \u001b[0mresponse\u001b[0m \u001b[0;34m=\u001b[0m \u001b[0mconn\u001b[0m\u001b[0;34m.\u001b[0m\u001b[0mgetresponse\u001b[0m\u001b[0;34m(\u001b[0m\u001b[0;34m)\u001b[0m\u001b[0;34m\u001b[0m\u001b[0;34m\u001b[0m\u001b[0m\n\u001b[0m\u001b[1;32m    535\u001b[0m         \u001b[0;32mexcept\u001b[0m \u001b[0;34m(\u001b[0m\u001b[0mBaseSSLError\u001b[0m\u001b[0;34m,\u001b[0m \u001b[0mOSError\u001b[0m\u001b[0;34m)\u001b[0m \u001b[0;32mas\u001b[0m \u001b[0me\u001b[0m\u001b[0;34m:\u001b[0m\u001b[0;34m\u001b[0m\u001b[0;34m\u001b[0m\u001b[0m\n\u001b[1;32m    536\u001b[0m             \u001b[0mself\u001b[0m\u001b[0;34m.\u001b[0m\u001b[0m_raise_timeout\u001b[0m\u001b[0;34m(\u001b[0m\u001b[0merr\u001b[0m\u001b[0;34m=\u001b[0m\u001b[0me\u001b[0m\u001b[0;34m,\u001b[0m \u001b[0murl\u001b[0m\u001b[0;34m=\u001b[0m\u001b[0murl\u001b[0m\u001b[0;34m,\u001b[0m \u001b[0mtimeout_value\u001b[0m\u001b[0;34m=\u001b[0m\u001b[0mread_timeout\u001b[0m\u001b[0;34m)\u001b[0m\u001b[0;34m\u001b[0m\u001b[0;34m\u001b[0m\u001b[0m\n",
            "\u001b[0;32m/usr/local/lib/python3.12/dist-packages/urllib3/connection.py\u001b[0m in \u001b[0;36mgetresponse\u001b[0;34m(self)\u001b[0m\n\u001b[1;32m    563\u001b[0m \u001b[0;34m\u001b[0m\u001b[0m\n\u001b[1;32m    564\u001b[0m         \u001b[0;31m# Get the response from http.client.HTTPConnection\u001b[0m\u001b[0;34m\u001b[0m\u001b[0;34m\u001b[0m\u001b[0m\n\u001b[0;32m--> 565\u001b[0;31m         \u001b[0mhttplib_response\u001b[0m \u001b[0;34m=\u001b[0m \u001b[0msuper\u001b[0m\u001b[0;34m(\u001b[0m\u001b[0;34m)\u001b[0m\u001b[0;34m.\u001b[0m\u001b[0mgetresponse\u001b[0m\u001b[0;34m(\u001b[0m\u001b[0;34m)\u001b[0m\u001b[0;34m\u001b[0m\u001b[0;34m\u001b[0m\u001b[0m\n\u001b[0m\u001b[1;32m    566\u001b[0m \u001b[0;34m\u001b[0m\u001b[0m\n\u001b[1;32m    567\u001b[0m         \u001b[0;32mtry\u001b[0m\u001b[0;34m:\u001b[0m\u001b[0;34m\u001b[0m\u001b[0;34m\u001b[0m\u001b[0m\n",
            "\u001b[0;32m/usr/lib/python3.12/http/client.py\u001b[0m in \u001b[0;36mgetresponse\u001b[0;34m(self)\u001b[0m\n\u001b[1;32m   1428\u001b[0m         \u001b[0;32mtry\u001b[0m\u001b[0;34m:\u001b[0m\u001b[0;34m\u001b[0m\u001b[0;34m\u001b[0m\u001b[0m\n\u001b[1;32m   1429\u001b[0m             \u001b[0;32mtry\u001b[0m\u001b[0;34m:\u001b[0m\u001b[0;34m\u001b[0m\u001b[0;34m\u001b[0m\u001b[0m\n\u001b[0;32m-> 1430\u001b[0;31m                 \u001b[0mresponse\u001b[0m\u001b[0;34m.\u001b[0m\u001b[0mbegin\u001b[0m\u001b[0;34m(\u001b[0m\u001b[0;34m)\u001b[0m\u001b[0;34m\u001b[0m\u001b[0;34m\u001b[0m\u001b[0m\n\u001b[0m\u001b[1;32m   1431\u001b[0m             \u001b[0;32mexcept\u001b[0m \u001b[0mConnectionError\u001b[0m\u001b[0;34m:\u001b[0m\u001b[0;34m\u001b[0m\u001b[0;34m\u001b[0m\u001b[0m\n\u001b[1;32m   1432\u001b[0m                 \u001b[0mself\u001b[0m\u001b[0;34m.\u001b[0m\u001b[0mclose\u001b[0m\u001b[0;34m(\u001b[0m\u001b[0;34m)\u001b[0m\u001b[0;34m\u001b[0m\u001b[0;34m\u001b[0m\u001b[0m\n",
            "\u001b[0;32m/usr/lib/python3.12/http/client.py\u001b[0m in \u001b[0;36mbegin\u001b[0;34m(self)\u001b[0m\n\u001b[1;32m    329\u001b[0m         \u001b[0;31m# read until we get a non-100 response\u001b[0m\u001b[0;34m\u001b[0m\u001b[0;34m\u001b[0m\u001b[0m\n\u001b[1;32m    330\u001b[0m         \u001b[0;32mwhile\u001b[0m \u001b[0;32mTrue\u001b[0m\u001b[0;34m:\u001b[0m\u001b[0;34m\u001b[0m\u001b[0;34m\u001b[0m\u001b[0m\n\u001b[0;32m--> 331\u001b[0;31m             \u001b[0mversion\u001b[0m\u001b[0;34m,\u001b[0m \u001b[0mstatus\u001b[0m\u001b[0;34m,\u001b[0m \u001b[0mreason\u001b[0m \u001b[0;34m=\u001b[0m \u001b[0mself\u001b[0m\u001b[0;34m.\u001b[0m\u001b[0m_read_status\u001b[0m\u001b[0;34m(\u001b[0m\u001b[0;34m)\u001b[0m\u001b[0;34m\u001b[0m\u001b[0;34m\u001b[0m\u001b[0m\n\u001b[0m\u001b[1;32m    332\u001b[0m             \u001b[0;32mif\u001b[0m \u001b[0mstatus\u001b[0m \u001b[0;34m!=\u001b[0m \u001b[0mCONTINUE\u001b[0m\u001b[0;34m:\u001b[0m\u001b[0;34m\u001b[0m\u001b[0;34m\u001b[0m\u001b[0m\n\u001b[1;32m    333\u001b[0m                 \u001b[0;32mbreak\u001b[0m\u001b[0;34m\u001b[0m\u001b[0;34m\u001b[0m\u001b[0m\n",
            "\u001b[0;32m/usr/lib/python3.12/http/client.py\u001b[0m in \u001b[0;36m_read_status\u001b[0;34m(self)\u001b[0m\n\u001b[1;32m    290\u001b[0m \u001b[0;34m\u001b[0m\u001b[0m\n\u001b[1;32m    291\u001b[0m     \u001b[0;32mdef\u001b[0m \u001b[0m_read_status\u001b[0m\u001b[0;34m(\u001b[0m\u001b[0mself\u001b[0m\u001b[0;34m)\u001b[0m\u001b[0;34m:\u001b[0m\u001b[0;34m\u001b[0m\u001b[0;34m\u001b[0m\u001b[0m\n\u001b[0;32m--> 292\u001b[0;31m         \u001b[0mline\u001b[0m \u001b[0;34m=\u001b[0m \u001b[0mstr\u001b[0m\u001b[0;34m(\u001b[0m\u001b[0mself\u001b[0m\u001b[0;34m.\u001b[0m\u001b[0mfp\u001b[0m\u001b[0;34m.\u001b[0m\u001b[0mreadline\u001b[0m\u001b[0;34m(\u001b[0m\u001b[0m_MAXLINE\u001b[0m \u001b[0;34m+\u001b[0m \u001b[0;36m1\u001b[0m\u001b[0;34m)\u001b[0m\u001b[0;34m,\u001b[0m \u001b[0;34m\"iso-8859-1\"\u001b[0m\u001b[0;34m)\u001b[0m\u001b[0;34m\u001b[0m\u001b[0;34m\u001b[0m\u001b[0m\n\u001b[0m\u001b[1;32m    293\u001b[0m         \u001b[0;32mif\u001b[0m \u001b[0mlen\u001b[0m\u001b[0;34m(\u001b[0m\u001b[0mline\u001b[0m\u001b[0;34m)\u001b[0m \u001b[0;34m>\u001b[0m \u001b[0m_MAXLINE\u001b[0m\u001b[0;34m:\u001b[0m\u001b[0;34m\u001b[0m\u001b[0;34m\u001b[0m\u001b[0m\n\u001b[1;32m    294\u001b[0m             \u001b[0;32mraise\u001b[0m \u001b[0mLineTooLong\u001b[0m\u001b[0;34m(\u001b[0m\u001b[0;34m\"status line\"\u001b[0m\u001b[0;34m)\u001b[0m\u001b[0;34m\u001b[0m\u001b[0;34m\u001b[0m\u001b[0m\n",
            "\u001b[0;32m/usr/lib/python3.12/socket.py\u001b[0m in \u001b[0;36mreadinto\u001b[0;34m(self, b)\u001b[0m\n\u001b[1;32m    718\u001b[0m         \u001b[0;32mwhile\u001b[0m \u001b[0;32mTrue\u001b[0m\u001b[0;34m:\u001b[0m\u001b[0;34m\u001b[0m\u001b[0;34m\u001b[0m\u001b[0m\n\u001b[1;32m    719\u001b[0m             \u001b[0;32mtry\u001b[0m\u001b[0;34m:\u001b[0m\u001b[0;34m\u001b[0m\u001b[0;34m\u001b[0m\u001b[0m\n\u001b[0;32m--> 720\u001b[0;31m                 \u001b[0;32mreturn\u001b[0m \u001b[0mself\u001b[0m\u001b[0;34m.\u001b[0m\u001b[0m_sock\u001b[0m\u001b[0;34m.\u001b[0m\u001b[0mrecv_into\u001b[0m\u001b[0;34m(\u001b[0m\u001b[0mb\u001b[0m\u001b[0;34m)\u001b[0m\u001b[0;34m\u001b[0m\u001b[0;34m\u001b[0m\u001b[0m\n\u001b[0m\u001b[1;32m    721\u001b[0m             \u001b[0;32mexcept\u001b[0m \u001b[0mtimeout\u001b[0m\u001b[0;34m:\u001b[0m\u001b[0;34m\u001b[0m\u001b[0;34m\u001b[0m\u001b[0m\n\u001b[1;32m    722\u001b[0m                 \u001b[0mself\u001b[0m\u001b[0;34m.\u001b[0m\u001b[0m_timeout_occurred\u001b[0m \u001b[0;34m=\u001b[0m \u001b[0;32mTrue\u001b[0m\u001b[0;34m\u001b[0m\u001b[0;34m\u001b[0m\u001b[0m\n",
            "\u001b[0;32m/usr/lib/python3.12/ssl.py\u001b[0m in \u001b[0;36mrecv_into\u001b[0;34m(self, buffer, nbytes, flags)\u001b[0m\n\u001b[1;32m   1249\u001b[0m                   \u001b[0;34m\"non-zero flags not allowed in calls to recv_into() on %s\"\u001b[0m \u001b[0;34m%\u001b[0m\u001b[0;34m\u001b[0m\u001b[0;34m\u001b[0m\u001b[0m\n\u001b[1;32m   1250\u001b[0m                   self.__class__)\n\u001b[0;32m-> 1251\u001b[0;31m             \u001b[0;32mreturn\u001b[0m \u001b[0mself\u001b[0m\u001b[0;34m.\u001b[0m\u001b[0mread\u001b[0m\u001b[0;34m(\u001b[0m\u001b[0mnbytes\u001b[0m\u001b[0;34m,\u001b[0m \u001b[0mbuffer\u001b[0m\u001b[0;34m)\u001b[0m\u001b[0;34m\u001b[0m\u001b[0;34m\u001b[0m\u001b[0m\n\u001b[0m\u001b[1;32m   1252\u001b[0m         \u001b[0;32melse\u001b[0m\u001b[0;34m:\u001b[0m\u001b[0;34m\u001b[0m\u001b[0;34m\u001b[0m\u001b[0m\n\u001b[1;32m   1253\u001b[0m             \u001b[0;32mreturn\u001b[0m \u001b[0msuper\u001b[0m\u001b[0;34m(\u001b[0m\u001b[0;34m)\u001b[0m\u001b[0;34m.\u001b[0m\u001b[0mrecv_into\u001b[0m\u001b[0;34m(\u001b[0m\u001b[0mbuffer\u001b[0m\u001b[0;34m,\u001b[0m \u001b[0mnbytes\u001b[0m\u001b[0;34m,\u001b[0m \u001b[0mflags\u001b[0m\u001b[0;34m)\u001b[0m\u001b[0;34m\u001b[0m\u001b[0;34m\u001b[0m\u001b[0m\n",
            "\u001b[0;32m/usr/lib/python3.12/ssl.py\u001b[0m in \u001b[0;36mread\u001b[0;34m(self, len, buffer)\u001b[0m\n\u001b[1;32m   1101\u001b[0m         \u001b[0;32mtry\u001b[0m\u001b[0;34m:\u001b[0m\u001b[0;34m\u001b[0m\u001b[0;34m\u001b[0m\u001b[0m\n\u001b[1;32m   1102\u001b[0m             \u001b[0;32mif\u001b[0m \u001b[0mbuffer\u001b[0m \u001b[0;32mis\u001b[0m \u001b[0;32mnot\u001b[0m \u001b[0;32mNone\u001b[0m\u001b[0;34m:\u001b[0m\u001b[0;34m\u001b[0m\u001b[0;34m\u001b[0m\u001b[0m\n\u001b[0;32m-> 1103\u001b[0;31m                 \u001b[0;32mreturn\u001b[0m \u001b[0mself\u001b[0m\u001b[0;34m.\u001b[0m\u001b[0m_sslobj\u001b[0m\u001b[0;34m.\u001b[0m\u001b[0mread\u001b[0m\u001b[0;34m(\u001b[0m\u001b[0mlen\u001b[0m\u001b[0;34m,\u001b[0m \u001b[0mbuffer\u001b[0m\u001b[0;34m)\u001b[0m\u001b[0;34m\u001b[0m\u001b[0;34m\u001b[0m\u001b[0m\n\u001b[0m\u001b[1;32m   1104\u001b[0m             \u001b[0;32melse\u001b[0m\u001b[0;34m:\u001b[0m\u001b[0;34m\u001b[0m\u001b[0;34m\u001b[0m\u001b[0m\n\u001b[1;32m   1105\u001b[0m                 \u001b[0;32mreturn\u001b[0m \u001b[0mself\u001b[0m\u001b[0;34m.\u001b[0m\u001b[0m_sslobj\u001b[0m\u001b[0;34m.\u001b[0m\u001b[0mread\u001b[0m\u001b[0;34m(\u001b[0m\u001b[0mlen\u001b[0m\u001b[0;34m)\u001b[0m\u001b[0;34m\u001b[0m\u001b[0;34m\u001b[0m\u001b[0m\n",
            "\u001b[0;31mKeyboardInterrupt\u001b[0m: "
          ]
        }
      ]
    },
    {
      "cell_type": "code",
      "source": [
        "model_file_path = os.path.join(save_path, \"ll_puzzle_2_082525_0\")"
      ],
      "metadata": {
        "id": "riOUfQmwkQDY"
      },
      "execution_count": null,
      "outputs": []
    },
    {
      "cell_type": "markdown",
      "source": [
        "# Run from load"
      ],
      "metadata": {
        "id": "KoeAXbvSz9kk"
      }
    },
    {
      "cell_type": "code",
      "source": [
        "# load rl model\n",
        "save_path = \"/content/drive/MyDrive/rl_stuff\"\n",
        "os.makedirs(save_path, exist_ok=True) # Create the folder if it doesn't exist\n",
        "model_file_path = os.path.join(save_path, \"bouncer_dqn_400k\")\n",
        "vec_env = make_vec_env(BouncerEnv, n_envs = 1, env_kwargs=ENV_KWARGS)\n",
        "loaded_model = DQN.load(model_file_path, env=vec_env)\n",
        "print(\"Model loaded successfully!\")"
      ],
      "metadata": {
        "colab": {
          "base_uri": "https://localhost:8080/",
          "height": 203
        },
        "id": "CpDup4hUDVLb",
        "outputId": "fe9aa5c2-6f3e-4fa5-d374-e1f1b6e86d22"
      },
      "execution_count": null,
      "outputs": [
        {
          "output_type": "stream",
          "name": "stderr",
          "text": [
            "WARNING:urllib3.connectionpool:Retrying (Retry(total=4, connect=None, read=None, redirect=None, status=None)) after connection broken by 'SSLError(SSLEOFError(8, '[SSL: UNEXPECTED_EOF_WHILE_READING] EOF occurred in violation of protocol (_ssl.c:1010)'))': /new-game?scenario=2&playerId=5f840748-3dda-4641-bf7c-0bc4c9f5b219\n",
            "WARNING:urllib3.connectionpool:Retrying (Retry(total=3, connect=None, read=None, redirect=None, status=None)) after connection broken by 'SSLError(SSLEOFError(8, '[SSL: UNEXPECTED_EOF_WHILE_READING] EOF occurred in violation of protocol (_ssl.c:1010)'))': /new-game?scenario=2&playerId=5f840748-3dda-4641-bf7c-0bc4c9f5b219\n",
            "WARNING:urllib3.connectionpool:Retrying (Retry(total=2, connect=None, read=None, redirect=None, status=None)) after connection broken by 'SSLError(SSLEOFError(8, '[SSL: UNEXPECTED_EOF_WHILE_READING] EOF occurred in violation of protocol (_ssl.c:1010)'))': /new-game?scenario=2&playerId=5f840748-3dda-4641-bf7c-0bc4c9f5b219\n",
            "WARNING:urllib3.connectionpool:Retrying (Retry(total=1, connect=None, read=None, redirect=None, status=None)) after connection broken by 'SSLError(SSLEOFError(8, '[SSL: UNEXPECTED_EOF_WHILE_READING] EOF occurred in violation of protocol (_ssl.c:1010)'))': /new-game?scenario=2&playerId=5f840748-3dda-4641-bf7c-0bc4c9f5b219\n",
            "WARNING:urllib3.connectionpool:Retrying (Retry(total=0, connect=None, read=None, redirect=None, status=None)) after connection broken by 'SSLError(SSLEOFError(8, '[SSL: UNEXPECTED_EOF_WHILE_READING] EOF occurred in violation of protocol (_ssl.c:1010)'))': /new-game?scenario=2&playerId=5f840748-3dda-4641-bf7c-0bc4c9f5b219\n"
          ]
        },
        {
          "output_type": "display_data",
          "data": {
            "text/plain": [
              "failed to connect on error: HTTPSConnectionPool(host='berghain.challenges.listenlabs.ai', port=443): Max retries \n",
              "exceeded with url: /new-game?scenario=2&playerId=5f840748-3dda-4641-bf7c-0bc4c9f5b219 (Caused by \n",
              "SSLError(SSLEOFError(8, '[SSL: UNEXPECTED_EOF_WHILE_READING] EOF occurred in violation of protocol \n",
              "(_ssl.c:1010)')))\n"
            ],
            "text/html": [
              "<pre style=\"white-space:pre;overflow-x:auto;line-height:normal;font-family:Menlo,'DejaVu Sans Mono',consolas,'Courier New',monospace\">failed to connect on error: HTTPSConnectionPool(host='berghain.challenges.listenlabs.ai', port=443): Max retries \n",
              "exceeded with url: /new-game?scenario=2&amp;playerId=5f840748-3dda-4641-bf7c-0bc4c9f5b219 (Caused by \n",
              "SSLError(SSLEOFError(8, '[SSL: UNEXPECTED_EOF_WHILE_READING] EOF occurred in violation of protocol \n",
              "(_ssl.c:1010)')))\n",
              "</pre>\n"
            ]
          },
          "metadata": {}
        },
        {
          "output_type": "display_data",
          "data": {
            "text/plain": [
              "Model loaded successfully!\n"
            ],
            "text/html": [
              "<pre style=\"white-space:pre;overflow-x:auto;line-height:normal;font-family:Menlo,'DejaVu Sans Mono',consolas,'Courier New',monospace\">Model loaded successfully!\n",
              "</pre>\n"
            ]
          },
          "metadata": {}
        }
      ]
    },
    {
      "cell_type": "code",
      "source": [
        "vec_env.get_attr('failed')"
      ],
      "metadata": {
        "colab": {
          "base_uri": "https://localhost:8080/"
        },
        "id": "TYBPlmMh1-By",
        "outputId": "566678c0-f2be-4763-f555-a636efd40099"
      },
      "execution_count": null,
      "outputs": [
        {
          "output_type": "execute_result",
          "data": {
            "text/plain": [
              "[True]"
            ]
          },
          "metadata": {},
          "execution_count": 40
        }
      ]
    },
    {
      "cell_type": "code",
      "source": [
        "for i in range(10):\n",
        "  state = vec_env.reset()\n",
        "  done = False\n",
        "  score = 0\n",
        "  while not done and not vec_env.get_attr('failed')[0]:\n",
        "    action, _state = loaded_model.predict(state, deterministic=True)\n",
        "    try:\n",
        "      time.sleep(0.01)\n",
        "      state, reward, done, info = vec_env.step(action)\n",
        "    except:\n",
        "      break"
      ],
      "metadata": {
        "colab": {
          "base_uri": "https://localhost:8080/",
          "height": 1000
        },
        "id": "9qU-CVDMz3xk",
        "outputId": "6dc0db27-00a7-42e3-e5d0-5fab51a33d14"
      },
      "execution_count": null,
      "outputs": [
        {
          "output_type": "stream",
          "name": "stderr",
          "text": [
            "WARNING:urllib3.connectionpool:Retrying (Retry(total=4, connect=None, read=None, redirect=None, status=None)) after connection broken by 'SSLError(SSLEOFError(8, '[SSL: UNEXPECTED_EOF_WHILE_READING] EOF occurred in violation of protocol (_ssl.c:1010)'))': /new-game?scenario=2&playerId=5f840748-3dda-4641-bf7c-0bc4c9f5b219\n",
            "WARNING:urllib3.connectionpool:Retrying (Retry(total=3, connect=None, read=None, redirect=None, status=None)) after connection broken by 'SSLError(SSLEOFError(8, '[SSL: UNEXPECTED_EOF_WHILE_READING] EOF occurred in violation of protocol (_ssl.c:1010)'))': /new-game?scenario=2&playerId=5f840748-3dda-4641-bf7c-0bc4c9f5b219\n",
            "WARNING:urllib3.connectionpool:Retrying (Retry(total=2, connect=None, read=None, redirect=None, status=None)) after connection broken by 'SSLError(SSLEOFError(8, '[SSL: UNEXPECTED_EOF_WHILE_READING] EOF occurred in violation of protocol (_ssl.c:1010)'))': /new-game?scenario=2&playerId=5f840748-3dda-4641-bf7c-0bc4c9f5b219\n",
            "WARNING:urllib3.connectionpool:Retrying (Retry(total=1, connect=None, read=None, redirect=None, status=None)) after connection broken by 'SSLError(SSLEOFError(8, '[SSL: UNEXPECTED_EOF_WHILE_READING] EOF occurred in violation of protocol (_ssl.c:1010)'))': /new-game?scenario=2&playerId=5f840748-3dda-4641-bf7c-0bc4c9f5b219\n",
            "WARNING:urllib3.connectionpool:Retrying (Retry(total=0, connect=None, read=None, redirect=None, status=None)) after connection broken by 'SSLError(SSLEOFError(8, '[SSL: UNEXPECTED_EOF_WHILE_READING] EOF occurred in violation of protocol (_ssl.c:1010)'))': /new-game?scenario=2&playerId=5f840748-3dda-4641-bf7c-0bc4c9f5b219\n"
          ]
        },
        {
          "output_type": "display_data",
          "data": {
            "text/plain": [
              "failed to connect on error: HTTPSConnectionPool(host='berghain.challenges.listenlabs.ai', port=443): Max retries \n",
              "exceeded with url: /new-game?scenario=2&playerId=5f840748-3dda-4641-bf7c-0bc4c9f5b219 (Caused by \n",
              "SSLError(SSLEOFError(8, '[SSL: UNEXPECTED_EOF_WHILE_READING] EOF occurred in violation of protocol \n",
              "(_ssl.c:1010)')))\n"
            ],
            "text/html": [
              "<pre style=\"white-space:pre;overflow-x:auto;line-height:normal;font-family:Menlo,'DejaVu Sans Mono',consolas,'Courier New',monospace\">failed to connect on error: HTTPSConnectionPool(host='berghain.challenges.listenlabs.ai', port=443): Max retries \n",
              "exceeded with url: /new-game?scenario=2&amp;playerId=5f840748-3dda-4641-bf7c-0bc4c9f5b219 (Caused by \n",
              "SSLError(SSLEOFError(8, '[SSL: UNEXPECTED_EOF_WHILE_READING] EOF occurred in violation of protocol \n",
              "(_ssl.c:1010)')))\n",
              "</pre>\n"
            ]
          },
          "metadata": {}
        },
        {
          "output_type": "stream",
          "name": "stderr",
          "text": [
            "WARNING:urllib3.connectionpool:Retrying (Retry(total=4, connect=None, read=None, redirect=None, status=None)) after connection broken by 'SSLError(SSLEOFError(8, '[SSL: UNEXPECTED_EOF_WHILE_READING] EOF occurred in violation of protocol (_ssl.c:1010)'))': /new-game?scenario=2&playerId=5f840748-3dda-4641-bf7c-0bc4c9f5b219\n",
            "WARNING:urllib3.connectionpool:Retrying (Retry(total=3, connect=None, read=None, redirect=None, status=None)) after connection broken by 'SSLError(SSLEOFError(8, '[SSL: UNEXPECTED_EOF_WHILE_READING] EOF occurred in violation of protocol (_ssl.c:1010)'))': /new-game?scenario=2&playerId=5f840748-3dda-4641-bf7c-0bc4c9f5b219\n",
            "WARNING:urllib3.connectionpool:Retrying (Retry(total=2, connect=None, read=None, redirect=None, status=None)) after connection broken by 'SSLError(SSLEOFError(8, '[SSL: UNEXPECTED_EOF_WHILE_READING] EOF occurred in violation of protocol (_ssl.c:1010)'))': /new-game?scenario=2&playerId=5f840748-3dda-4641-bf7c-0bc4c9f5b219\n",
            "WARNING:urllib3.connectionpool:Retrying (Retry(total=1, connect=None, read=None, redirect=None, status=None)) after connection broken by 'SSLError(SSLEOFError(8, '[SSL: UNEXPECTED_EOF_WHILE_READING] EOF occurred in violation of protocol (_ssl.c:1010)'))': /new-game?scenario=2&playerId=5f840748-3dda-4641-bf7c-0bc4c9f5b219\n",
            "WARNING:urllib3.connectionpool:Retrying (Retry(total=0, connect=None, read=None, redirect=None, status=None)) after connection broken by 'SSLError(SSLEOFError(8, '[SSL: UNEXPECTED_EOF_WHILE_READING] EOF occurred in violation of protocol (_ssl.c:1010)'))': /new-game?scenario=2&playerId=5f840748-3dda-4641-bf7c-0bc4c9f5b219\n"
          ]
        },
        {
          "output_type": "display_data",
          "data": {
            "text/plain": [
              "failed to connect on error: HTTPSConnectionPool(host='berghain.challenges.listenlabs.ai', port=443): Max retries \n",
              "exceeded with url: /new-game?scenario=2&playerId=5f840748-3dda-4641-bf7c-0bc4c9f5b219 (Caused by \n",
              "SSLError(SSLEOFError(8, '[SSL: UNEXPECTED_EOF_WHILE_READING] EOF occurred in violation of protocol \n",
              "(_ssl.c:1010)')))\n"
            ],
            "text/html": [
              "<pre style=\"white-space:pre;overflow-x:auto;line-height:normal;font-family:Menlo,'DejaVu Sans Mono',consolas,'Courier New',monospace\">failed to connect on error: HTTPSConnectionPool(host='berghain.challenges.listenlabs.ai', port=443): Max retries \n",
              "exceeded with url: /new-game?scenario=2&amp;playerId=5f840748-3dda-4641-bf7c-0bc4c9f5b219 (Caused by \n",
              "SSLError(SSLEOFError(8, '[SSL: UNEXPECTED_EOF_WHILE_READING] EOF occurred in violation of protocol \n",
              "(_ssl.c:1010)')))\n",
              "</pre>\n"
            ]
          },
          "metadata": {}
        },
        {
          "output_type": "stream",
          "name": "stderr",
          "text": [
            "WARNING:urllib3.connectionpool:Retrying (Retry(total=4, connect=None, read=None, redirect=None, status=None)) after connection broken by 'SSLError(SSLEOFError(8, '[SSL: UNEXPECTED_EOF_WHILE_READING] EOF occurred in violation of protocol (_ssl.c:1010)'))': /new-game?scenario=2&playerId=5f840748-3dda-4641-bf7c-0bc4c9f5b219\n",
            "WARNING:urllib3.connectionpool:Retrying (Retry(total=3, connect=None, read=None, redirect=None, status=None)) after connection broken by 'SSLError(SSLEOFError(8, '[SSL: UNEXPECTED_EOF_WHILE_READING] EOF occurred in violation of protocol (_ssl.c:1010)'))': /new-game?scenario=2&playerId=5f840748-3dda-4641-bf7c-0bc4c9f5b219\n",
            "WARNING:urllib3.connectionpool:Retrying (Retry(total=2, connect=None, read=None, redirect=None, status=None)) after connection broken by 'SSLError(SSLEOFError(8, '[SSL: UNEXPECTED_EOF_WHILE_READING] EOF occurred in violation of protocol (_ssl.c:1010)'))': /new-game?scenario=2&playerId=5f840748-3dda-4641-bf7c-0bc4c9f5b219\n",
            "WARNING:urllib3.connectionpool:Retrying (Retry(total=1, connect=None, read=None, redirect=None, status=None)) after connection broken by 'SSLError(SSLEOFError(8, '[SSL: UNEXPECTED_EOF_WHILE_READING] EOF occurred in violation of protocol (_ssl.c:1010)'))': /new-game?scenario=2&playerId=5f840748-3dda-4641-bf7c-0bc4c9f5b219\n",
            "WARNING:urllib3.connectionpool:Retrying (Retry(total=0, connect=None, read=None, redirect=None, status=None)) after connection broken by 'SSLError(SSLEOFError(8, '[SSL: UNEXPECTED_EOF_WHILE_READING] EOF occurred in violation of protocol (_ssl.c:1010)'))': /new-game?scenario=2&playerId=5f840748-3dda-4641-bf7c-0bc4c9f5b219\n"
          ]
        },
        {
          "output_type": "display_data",
          "data": {
            "text/plain": [
              "failed to connect on error: HTTPSConnectionPool(host='berghain.challenges.listenlabs.ai', port=443): Max retries \n",
              "exceeded with url: /new-game?scenario=2&playerId=5f840748-3dda-4641-bf7c-0bc4c9f5b219 (Caused by \n",
              "SSLError(SSLEOFError(8, '[SSL: UNEXPECTED_EOF_WHILE_READING] EOF occurred in violation of protocol \n",
              "(_ssl.c:1010)')))\n"
            ],
            "text/html": [
              "<pre style=\"white-space:pre;overflow-x:auto;line-height:normal;font-family:Menlo,'DejaVu Sans Mono',consolas,'Courier New',monospace\">failed to connect on error: HTTPSConnectionPool(host='berghain.challenges.listenlabs.ai', port=443): Max retries \n",
              "exceeded with url: /new-game?scenario=2&amp;playerId=5f840748-3dda-4641-bf7c-0bc4c9f5b219 (Caused by \n",
              "SSLError(SSLEOFError(8, '[SSL: UNEXPECTED_EOF_WHILE_READING] EOF occurred in violation of protocol \n",
              "(_ssl.c:1010)')))\n",
              "</pre>\n"
            ]
          },
          "metadata": {}
        },
        {
          "output_type": "stream",
          "name": "stderr",
          "text": [
            "WARNING:urllib3.connectionpool:Retrying (Retry(total=4, connect=None, read=None, redirect=None, status=None)) after connection broken by 'SSLError(SSLEOFError(8, '[SSL: UNEXPECTED_EOF_WHILE_READING] EOF occurred in violation of protocol (_ssl.c:1010)'))': /new-game?scenario=2&playerId=5f840748-3dda-4641-bf7c-0bc4c9f5b219\n",
            "WARNING:urllib3.connectionpool:Retrying (Retry(total=3, connect=None, read=None, redirect=None, status=None)) after connection broken by 'SSLError(SSLEOFError(8, '[SSL: UNEXPECTED_EOF_WHILE_READING] EOF occurred in violation of protocol (_ssl.c:1010)'))': /new-game?scenario=2&playerId=5f840748-3dda-4641-bf7c-0bc4c9f5b219\n",
            "WARNING:urllib3.connectionpool:Retrying (Retry(total=2, connect=None, read=None, redirect=None, status=None)) after connection broken by 'SSLError(SSLEOFError(8, '[SSL: UNEXPECTED_EOF_WHILE_READING] EOF occurred in violation of protocol (_ssl.c:1010)'))': /new-game?scenario=2&playerId=5f840748-3dda-4641-bf7c-0bc4c9f5b219\n",
            "WARNING:urllib3.connectionpool:Retrying (Retry(total=1, connect=None, read=None, redirect=None, status=None)) after connection broken by 'SSLError(SSLEOFError(8, '[SSL: UNEXPECTED_EOF_WHILE_READING] EOF occurred in violation of protocol (_ssl.c:1010)'))': /new-game?scenario=2&playerId=5f840748-3dda-4641-bf7c-0bc4c9f5b219\n",
            "WARNING:urllib3.connectionpool:Retrying (Retry(total=0, connect=None, read=None, redirect=None, status=None)) after connection broken by 'SSLError(SSLEOFError(8, '[SSL: UNEXPECTED_EOF_WHILE_READING] EOF occurred in violation of protocol (_ssl.c:1010)'))': /new-game?scenario=2&playerId=5f840748-3dda-4641-bf7c-0bc4c9f5b219\n"
          ]
        },
        {
          "output_type": "display_data",
          "data": {
            "text/plain": [
              "failed to connect on error: HTTPSConnectionPool(host='berghain.challenges.listenlabs.ai', port=443): Max retries \n",
              "exceeded with url: /new-game?scenario=2&playerId=5f840748-3dda-4641-bf7c-0bc4c9f5b219 (Caused by \n",
              "SSLError(SSLEOFError(8, '[SSL: UNEXPECTED_EOF_WHILE_READING] EOF occurred in violation of protocol \n",
              "(_ssl.c:1010)')))\n"
            ],
            "text/html": [
              "<pre style=\"white-space:pre;overflow-x:auto;line-height:normal;font-family:Menlo,'DejaVu Sans Mono',consolas,'Courier New',monospace\">failed to connect on error: HTTPSConnectionPool(host='berghain.challenges.listenlabs.ai', port=443): Max retries \n",
              "exceeded with url: /new-game?scenario=2&amp;playerId=5f840748-3dda-4641-bf7c-0bc4c9f5b219 (Caused by \n",
              "SSLError(SSLEOFError(8, '[SSL: UNEXPECTED_EOF_WHILE_READING] EOF occurred in violation of protocol \n",
              "(_ssl.c:1010)')))\n",
              "</pre>\n"
            ]
          },
          "metadata": {}
        },
        {
          "output_type": "stream",
          "name": "stderr",
          "text": [
            "WARNING:urllib3.connectionpool:Retrying (Retry(total=4, connect=None, read=None, redirect=None, status=None)) after connection broken by 'SSLError(SSLEOFError(8, '[SSL: UNEXPECTED_EOF_WHILE_READING] EOF occurred in violation of protocol (_ssl.c:1010)'))': /new-game?scenario=2&playerId=5f840748-3dda-4641-bf7c-0bc4c9f5b219\n",
            "WARNING:urllib3.connectionpool:Retrying (Retry(total=3, connect=None, read=None, redirect=None, status=None)) after connection broken by 'SSLError(SSLEOFError(8, '[SSL: UNEXPECTED_EOF_WHILE_READING] EOF occurred in violation of protocol (_ssl.c:1010)'))': /new-game?scenario=2&playerId=5f840748-3dda-4641-bf7c-0bc4c9f5b219\n",
            "WARNING:urllib3.connectionpool:Retrying (Retry(total=2, connect=None, read=None, redirect=None, status=None)) after connection broken by 'SSLError(SSLEOFError(8, '[SSL: UNEXPECTED_EOF_WHILE_READING] EOF occurred in violation of protocol (_ssl.c:1010)'))': /new-game?scenario=2&playerId=5f840748-3dda-4641-bf7c-0bc4c9f5b219\n",
            "WARNING:urllib3.connectionpool:Retrying (Retry(total=1, connect=None, read=None, redirect=None, status=None)) after connection broken by 'SSLError(SSLEOFError(8, '[SSL: UNEXPECTED_EOF_WHILE_READING] EOF occurred in violation of protocol (_ssl.c:1010)'))': /new-game?scenario=2&playerId=5f840748-3dda-4641-bf7c-0bc4c9f5b219\n",
            "WARNING:urllib3.connectionpool:Retrying (Retry(total=0, connect=None, read=None, redirect=None, status=None)) after connection broken by 'SSLError(SSLEOFError(8, '[SSL: UNEXPECTED_EOF_WHILE_READING] EOF occurred in violation of protocol (_ssl.c:1010)'))': /new-game?scenario=2&playerId=5f840748-3dda-4641-bf7c-0bc4c9f5b219\n"
          ]
        },
        {
          "output_type": "display_data",
          "data": {
            "text/plain": [
              "failed to connect on error: HTTPSConnectionPool(host='berghain.challenges.listenlabs.ai', port=443): Max retries \n",
              "exceeded with url: /new-game?scenario=2&playerId=5f840748-3dda-4641-bf7c-0bc4c9f5b219 (Caused by \n",
              "SSLError(SSLEOFError(8, '[SSL: UNEXPECTED_EOF_WHILE_READING] EOF occurred in violation of protocol \n",
              "(_ssl.c:1010)')))\n"
            ],
            "text/html": [
              "<pre style=\"white-space:pre;overflow-x:auto;line-height:normal;font-family:Menlo,'DejaVu Sans Mono',consolas,'Courier New',monospace\">failed to connect on error: HTTPSConnectionPool(host='berghain.challenges.listenlabs.ai', port=443): Max retries \n",
              "exceeded with url: /new-game?scenario=2&amp;playerId=5f840748-3dda-4641-bf7c-0bc4c9f5b219 (Caused by \n",
              "SSLError(SSLEOFError(8, '[SSL: UNEXPECTED_EOF_WHILE_READING] EOF occurred in violation of protocol \n",
              "(_ssl.c:1010)')))\n",
              "</pre>\n"
            ]
          },
          "metadata": {}
        },
        {
          "output_type": "stream",
          "name": "stderr",
          "text": [
            "WARNING:urllib3.connectionpool:Retrying (Retry(total=4, connect=None, read=None, redirect=None, status=None)) after connection broken by 'SSLError(SSLEOFError(8, '[SSL: UNEXPECTED_EOF_WHILE_READING] EOF occurred in violation of protocol (_ssl.c:1010)'))': /new-game?scenario=2&playerId=5f840748-3dda-4641-bf7c-0bc4c9f5b219\n",
            "WARNING:urllib3.connectionpool:Retrying (Retry(total=3, connect=None, read=None, redirect=None, status=None)) after connection broken by 'SSLError(SSLEOFError(8, '[SSL: UNEXPECTED_EOF_WHILE_READING] EOF occurred in violation of protocol (_ssl.c:1010)'))': /new-game?scenario=2&playerId=5f840748-3dda-4641-bf7c-0bc4c9f5b219\n",
            "WARNING:urllib3.connectionpool:Retrying (Retry(total=2, connect=None, read=None, redirect=None, status=None)) after connection broken by 'SSLError(SSLEOFError(8, '[SSL: UNEXPECTED_EOF_WHILE_READING] EOF occurred in violation of protocol (_ssl.c:1010)'))': /new-game?scenario=2&playerId=5f840748-3dda-4641-bf7c-0bc4c9f5b219\n",
            "WARNING:urllib3.connectionpool:Retrying (Retry(total=1, connect=None, read=None, redirect=None, status=None)) after connection broken by 'SSLError(SSLEOFError(8, '[SSL: UNEXPECTED_EOF_WHILE_READING] EOF occurred in violation of protocol (_ssl.c:1010)'))': /new-game?scenario=2&playerId=5f840748-3dda-4641-bf7c-0bc4c9f5b219\n",
            "WARNING:urllib3.connectionpool:Retrying (Retry(total=0, connect=None, read=None, redirect=None, status=None)) after connection broken by 'SSLError(SSLEOFError(8, '[SSL: UNEXPECTED_EOF_WHILE_READING] EOF occurred in violation of protocol (_ssl.c:1010)'))': /new-game?scenario=2&playerId=5f840748-3dda-4641-bf7c-0bc4c9f5b219\n"
          ]
        },
        {
          "output_type": "display_data",
          "data": {
            "text/plain": [
              "failed to connect on error: HTTPSConnectionPool(host='berghain.challenges.listenlabs.ai', port=443): Max retries \n",
              "exceeded with url: /new-game?scenario=2&playerId=5f840748-3dda-4641-bf7c-0bc4c9f5b219 (Caused by \n",
              "SSLError(SSLEOFError(8, '[SSL: UNEXPECTED_EOF_WHILE_READING] EOF occurred in violation of protocol \n",
              "(_ssl.c:1010)')))\n"
            ],
            "text/html": [
              "<pre style=\"white-space:pre;overflow-x:auto;line-height:normal;font-family:Menlo,'DejaVu Sans Mono',consolas,'Courier New',monospace\">failed to connect on error: HTTPSConnectionPool(host='berghain.challenges.listenlabs.ai', port=443): Max retries \n",
              "exceeded with url: /new-game?scenario=2&amp;playerId=5f840748-3dda-4641-bf7c-0bc4c9f5b219 (Caused by \n",
              "SSLError(SSLEOFError(8, '[SSL: UNEXPECTED_EOF_WHILE_READING] EOF occurred in violation of protocol \n",
              "(_ssl.c:1010)')))\n",
              "</pre>\n"
            ]
          },
          "metadata": {}
        },
        {
          "output_type": "stream",
          "name": "stderr",
          "text": [
            "WARNING:urllib3.connectionpool:Retrying (Retry(total=4, connect=None, read=None, redirect=None, status=None)) after connection broken by 'SSLError(SSLEOFError(8, '[SSL: UNEXPECTED_EOF_WHILE_READING] EOF occurred in violation of protocol (_ssl.c:1010)'))': /new-game?scenario=2&playerId=5f840748-3dda-4641-bf7c-0bc4c9f5b219\n",
            "WARNING:urllib3.connectionpool:Retrying (Retry(total=3, connect=None, read=None, redirect=None, status=None)) after connection broken by 'SSLError(SSLEOFError(8, '[SSL: UNEXPECTED_EOF_WHILE_READING] EOF occurred in violation of protocol (_ssl.c:1010)'))': /new-game?scenario=2&playerId=5f840748-3dda-4641-bf7c-0bc4c9f5b219\n",
            "WARNING:urllib3.connectionpool:Retrying (Retry(total=2, connect=None, read=None, redirect=None, status=None)) after connection broken by 'SSLError(SSLEOFError(8, '[SSL: UNEXPECTED_EOF_WHILE_READING] EOF occurred in violation of protocol (_ssl.c:1010)'))': /new-game?scenario=2&playerId=5f840748-3dda-4641-bf7c-0bc4c9f5b219\n",
            "WARNING:urllib3.connectionpool:Retrying (Retry(total=1, connect=None, read=None, redirect=None, status=None)) after connection broken by 'SSLError(SSLEOFError(8, '[SSL: UNEXPECTED_EOF_WHILE_READING] EOF occurred in violation of protocol (_ssl.c:1010)'))': /new-game?scenario=2&playerId=5f840748-3dda-4641-bf7c-0bc4c9f5b219\n",
            "WARNING:urllib3.connectionpool:Retrying (Retry(total=0, connect=None, read=None, redirect=None, status=None)) after connection broken by 'SSLError(SSLEOFError(8, '[SSL: UNEXPECTED_EOF_WHILE_READING] EOF occurred in violation of protocol (_ssl.c:1010)'))': /new-game?scenario=2&playerId=5f840748-3dda-4641-bf7c-0bc4c9f5b219\n"
          ]
        },
        {
          "output_type": "display_data",
          "data": {
            "text/plain": [
              "failed to connect on error: HTTPSConnectionPool(host='berghain.challenges.listenlabs.ai', port=443): Max retries \n",
              "exceeded with url: /new-game?scenario=2&playerId=5f840748-3dda-4641-bf7c-0bc4c9f5b219 (Caused by \n",
              "SSLError(SSLEOFError(8, '[SSL: UNEXPECTED_EOF_WHILE_READING] EOF occurred in violation of protocol \n",
              "(_ssl.c:1010)')))\n"
            ],
            "text/html": [
              "<pre style=\"white-space:pre;overflow-x:auto;line-height:normal;font-family:Menlo,'DejaVu Sans Mono',consolas,'Courier New',monospace\">failed to connect on error: HTTPSConnectionPool(host='berghain.challenges.listenlabs.ai', port=443): Max retries \n",
              "exceeded with url: /new-game?scenario=2&amp;playerId=5f840748-3dda-4641-bf7c-0bc4c9f5b219 (Caused by \n",
              "SSLError(SSLEOFError(8, '[SSL: UNEXPECTED_EOF_WHILE_READING] EOF occurred in violation of protocol \n",
              "(_ssl.c:1010)')))\n",
              "</pre>\n"
            ]
          },
          "metadata": {}
        },
        {
          "output_type": "stream",
          "name": "stderr",
          "text": [
            "WARNING:urllib3.connectionpool:Retrying (Retry(total=4, connect=None, read=None, redirect=None, status=None)) after connection broken by 'SSLError(SSLEOFError(8, '[SSL: UNEXPECTED_EOF_WHILE_READING] EOF occurred in violation of protocol (_ssl.c:1010)'))': /new-game?scenario=2&playerId=5f840748-3dda-4641-bf7c-0bc4c9f5b219\n",
            "WARNING:urllib3.connectionpool:Retrying (Retry(total=3, connect=None, read=None, redirect=None, status=None)) after connection broken by 'SSLError(SSLEOFError(8, '[SSL: UNEXPECTED_EOF_WHILE_READING] EOF occurred in violation of protocol (_ssl.c:1010)'))': /new-game?scenario=2&playerId=5f840748-3dda-4641-bf7c-0bc4c9f5b219\n",
            "WARNING:urllib3.connectionpool:Retrying (Retry(total=2, connect=None, read=None, redirect=None, status=None)) after connection broken by 'SSLError(SSLEOFError(8, '[SSL: UNEXPECTED_EOF_WHILE_READING] EOF occurred in violation of protocol (_ssl.c:1010)'))': /new-game?scenario=2&playerId=5f840748-3dda-4641-bf7c-0bc4c9f5b219\n",
            "WARNING:urllib3.connectionpool:Retrying (Retry(total=1, connect=None, read=None, redirect=None, status=None)) after connection broken by 'SSLError(SSLEOFError(8, '[SSL: UNEXPECTED_EOF_WHILE_READING] EOF occurred in violation of protocol (_ssl.c:1010)'))': /new-game?scenario=2&playerId=5f840748-3dda-4641-bf7c-0bc4c9f5b219\n",
            "WARNING:urllib3.connectionpool:Retrying (Retry(total=0, connect=None, read=None, redirect=None, status=None)) after connection broken by 'SSLError(SSLEOFError(8, '[SSL: UNEXPECTED_EOF_WHILE_READING] EOF occurred in violation of protocol (_ssl.c:1010)'))': /new-game?scenario=2&playerId=5f840748-3dda-4641-bf7c-0bc4c9f5b219\n"
          ]
        },
        {
          "output_type": "display_data",
          "data": {
            "text/plain": [
              "failed to connect on error: HTTPSConnectionPool(host='berghain.challenges.listenlabs.ai', port=443): Max retries \n",
              "exceeded with url: /new-game?scenario=2&playerId=5f840748-3dda-4641-bf7c-0bc4c9f5b219 (Caused by \n",
              "SSLError(SSLEOFError(8, '[SSL: UNEXPECTED_EOF_WHILE_READING] EOF occurred in violation of protocol \n",
              "(_ssl.c:1010)')))\n"
            ],
            "text/html": [
              "<pre style=\"white-space:pre;overflow-x:auto;line-height:normal;font-family:Menlo,'DejaVu Sans Mono',consolas,'Courier New',monospace\">failed to connect on error: HTTPSConnectionPool(host='berghain.challenges.listenlabs.ai', port=443): Max retries \n",
              "exceeded with url: /new-game?scenario=2&amp;playerId=5f840748-3dda-4641-bf7c-0bc4c9f5b219 (Caused by \n",
              "SSLError(SSLEOFError(8, '[SSL: UNEXPECTED_EOF_WHILE_READING] EOF occurred in violation of protocol \n",
              "(_ssl.c:1010)')))\n",
              "</pre>\n"
            ]
          },
          "metadata": {}
        },
        {
          "output_type": "stream",
          "name": "stderr",
          "text": [
            "WARNING:urllib3.connectionpool:Retrying (Retry(total=4, connect=None, read=None, redirect=None, status=None)) after connection broken by 'SSLError(SSLEOFError(8, '[SSL: UNEXPECTED_EOF_WHILE_READING] EOF occurred in violation of protocol (_ssl.c:1010)'))': /new-game?scenario=2&playerId=5f840748-3dda-4641-bf7c-0bc4c9f5b219\n",
            "WARNING:urllib3.connectionpool:Retrying (Retry(total=3, connect=None, read=None, redirect=None, status=None)) after connection broken by 'SSLError(SSLEOFError(8, '[SSL: UNEXPECTED_EOF_WHILE_READING] EOF occurred in violation of protocol (_ssl.c:1010)'))': /new-game?scenario=2&playerId=5f840748-3dda-4641-bf7c-0bc4c9f5b219\n",
            "WARNING:urllib3.connectionpool:Retrying (Retry(total=2, connect=None, read=None, redirect=None, status=None)) after connection broken by 'SSLError(SSLEOFError(8, '[SSL: UNEXPECTED_EOF_WHILE_READING] EOF occurred in violation of protocol (_ssl.c:1010)'))': /new-game?scenario=2&playerId=5f840748-3dda-4641-bf7c-0bc4c9f5b219\n",
            "WARNING:urllib3.connectionpool:Retrying (Retry(total=1, connect=None, read=None, redirect=None, status=None)) after connection broken by 'SSLError(SSLEOFError(8, '[SSL: UNEXPECTED_EOF_WHILE_READING] EOF occurred in violation of protocol (_ssl.c:1010)'))': /new-game?scenario=2&playerId=5f840748-3dda-4641-bf7c-0bc4c9f5b219\n",
            "WARNING:urllib3.connectionpool:Retrying (Retry(total=0, connect=None, read=None, redirect=None, status=None)) after connection broken by 'SSLError(SSLEOFError(8, '[SSL: UNEXPECTED_EOF_WHILE_READING] EOF occurred in violation of protocol (_ssl.c:1010)'))': /new-game?scenario=2&playerId=5f840748-3dda-4641-bf7c-0bc4c9f5b219\n"
          ]
        },
        {
          "output_type": "display_data",
          "data": {
            "text/plain": [
              "failed to connect on error: HTTPSConnectionPool(host='berghain.challenges.listenlabs.ai', port=443): Max retries \n",
              "exceeded with url: /new-game?scenario=2&playerId=5f840748-3dda-4641-bf7c-0bc4c9f5b219 (Caused by \n",
              "SSLError(SSLEOFError(8, '[SSL: UNEXPECTED_EOF_WHILE_READING] EOF occurred in violation of protocol \n",
              "(_ssl.c:1010)')))\n"
            ],
            "text/html": [
              "<pre style=\"white-space:pre;overflow-x:auto;line-height:normal;font-family:Menlo,'DejaVu Sans Mono',consolas,'Courier New',monospace\">failed to connect on error: HTTPSConnectionPool(host='berghain.challenges.listenlabs.ai', port=443): Max retries \n",
              "exceeded with url: /new-game?scenario=2&amp;playerId=5f840748-3dda-4641-bf7c-0bc4c9f5b219 (Caused by \n",
              "SSLError(SSLEOFError(8, '[SSL: UNEXPECTED_EOF_WHILE_READING] EOF occurred in violation of protocol \n",
              "(_ssl.c:1010)')))\n",
              "</pre>\n"
            ]
          },
          "metadata": {}
        },
        {
          "output_type": "stream",
          "name": "stderr",
          "text": [
            "WARNING:urllib3.connectionpool:Retrying (Retry(total=4, connect=None, read=None, redirect=None, status=None)) after connection broken by 'SSLError(SSLEOFError(8, '[SSL: UNEXPECTED_EOF_WHILE_READING] EOF occurred in violation of protocol (_ssl.c:1010)'))': /new-game?scenario=2&playerId=5f840748-3dda-4641-bf7c-0bc4c9f5b219\n",
            "WARNING:urllib3.connectionpool:Retrying (Retry(total=3, connect=None, read=None, redirect=None, status=None)) after connection broken by 'SSLError(SSLEOFError(8, '[SSL: UNEXPECTED_EOF_WHILE_READING] EOF occurred in violation of protocol (_ssl.c:1010)'))': /new-game?scenario=2&playerId=5f840748-3dda-4641-bf7c-0bc4c9f5b219\n",
            "WARNING:urllib3.connectionpool:Retrying (Retry(total=2, connect=None, read=None, redirect=None, status=None)) after connection broken by 'SSLError(SSLEOFError(8, '[SSL: UNEXPECTED_EOF_WHILE_READING] EOF occurred in violation of protocol (_ssl.c:1010)'))': /new-game?scenario=2&playerId=5f840748-3dda-4641-bf7c-0bc4c9f5b219\n",
            "WARNING:urllib3.connectionpool:Retrying (Retry(total=1, connect=None, read=None, redirect=None, status=None)) after connection broken by 'SSLError(SSLEOFError(8, '[SSL: UNEXPECTED_EOF_WHILE_READING] EOF occurred in violation of protocol (_ssl.c:1010)'))': /new-game?scenario=2&playerId=5f840748-3dda-4641-bf7c-0bc4c9f5b219\n",
            "WARNING:urllib3.connectionpool:Retrying (Retry(total=0, connect=None, read=None, redirect=None, status=None)) after connection broken by 'SSLError(SSLEOFError(8, '[SSL: UNEXPECTED_EOF_WHILE_READING] EOF occurred in violation of protocol (_ssl.c:1010)'))': /new-game?scenario=2&playerId=5f840748-3dda-4641-bf7c-0bc4c9f5b219\n"
          ]
        },
        {
          "output_type": "display_data",
          "data": {
            "text/plain": [
              "failed to connect on error: HTTPSConnectionPool(host='berghain.challenges.listenlabs.ai', port=443): Max retries \n",
              "exceeded with url: /new-game?scenario=2&playerId=5f840748-3dda-4641-bf7c-0bc4c9f5b219 (Caused by \n",
              "SSLError(SSLEOFError(8, '[SSL: UNEXPECTED_EOF_WHILE_READING] EOF occurred in violation of protocol \n",
              "(_ssl.c:1010)')))\n"
            ],
            "text/html": [
              "<pre style=\"white-space:pre;overflow-x:auto;line-height:normal;font-family:Menlo,'DejaVu Sans Mono',consolas,'Courier New',monospace\">failed to connect on error: HTTPSConnectionPool(host='berghain.challenges.listenlabs.ai', port=443): Max retries \n",
              "exceeded with url: /new-game?scenario=2&amp;playerId=5f840748-3dda-4641-bf7c-0bc4c9f5b219 (Caused by \n",
              "SSLError(SSLEOFError(8, '[SSL: UNEXPECTED_EOF_WHILE_READING] EOF occurred in violation of protocol \n",
              "(_ssl.c:1010)')))\n",
              "</pre>\n"
            ]
          },
          "metadata": {}
        }
      ]
    },
    {
      "cell_type": "code",
      "source": [],
      "metadata": {
        "id": "Ud4ZA0CAKDkP"
      },
      "execution_count": null,
      "outputs": []
    }
  ]
}